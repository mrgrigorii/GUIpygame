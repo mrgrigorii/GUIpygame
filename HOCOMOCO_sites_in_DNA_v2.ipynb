{
  "nbformat": 4,
  "nbformat_minor": 0,
  "metadata": {
    "kernelspec": {
      "display_name": "Python 3",
      "language": "python",
      "name": "python3"
    },
    "language_info": {
      "codemirror_mode": {
        "name": "ipython",
        "version": 3
      },
      "file_extension": ".py",
      "mimetype": "text/x-python",
      "name": "python",
      "nbconvert_exporter": "python",
      "pygments_lexer": "ipython3",
      "version": "3.6.6"
    },
    "colab": {
      "name": "HOCOMOCO_sites_in_DNA_v2.ipynb",
      "provenance": [],
      "collapsed_sections": [],
      "toc_visible": true,
      "include_colab_link": true
    }
  },
  "cells": [
    {
      "cell_type": "markdown",
      "metadata": {
        "id": "view-in-github",
        "colab_type": "text"
      },
      "source": [
        "<a href=\"https://colab.research.google.com/github/mrgrigorii/GUIpygame/blob/master/HOCOMOCO_sites_in_DNA_v2.ipynb\" target=\"_parent\"><img src=\"https://colab.research.google.com/assets/colab-badge.svg\" alt=\"Open In Colab\"/></a>"
      ]
    },
    {
      "cell_type": "code",
      "metadata": {
        "id": "HeM9dy8XkYJJ"
      },
      "source": [
        "import array\n",
        "import copy\n",
        "import gzip\n",
        "import os\n",
        "import random\n",
        "\n",
        "import matplotlib.pyplot as plt\n",
        "import numpy as np\n",
        "import torch"
      ],
      "execution_count": null,
      "outputs": []
    },
    {
      "cell_type": "code",
      "metadata": {
        "id": "v2aLATwkkfmf",
        "outputId": "7fbfcd07-2cd6-4f96-c9b3-1ae3c84226ca",
        "colab": {
          "base_uri": "https://localhost:8080/",
          "height": 124
        }
      },
      "source": [
        "from google.colab import drive\n",
        "drive.mount('/content/drive')"
      ],
      "execution_count": null,
      "outputs": [
        {
          "output_type": "stream",
          "text": [
            "Go to this URL in a browser: https://accounts.google.com/o/oauth2/auth?client_id=947318989803-6bn6qk8qdgf4n4g3pfee6491hc0brc4i.apps.googleusercontent.com&redirect_uri=urn%3aietf%3awg%3aoauth%3a2.0%3aoob&response_type=code&scope=email%20https%3a%2f%2fwww.googleapis.com%2fauth%2fdocs.test%20https%3a%2f%2fwww.googleapis.com%2fauth%2fdrive%20https%3a%2f%2fwww.googleapis.com%2fauth%2fdrive.photos.readonly%20https%3a%2f%2fwww.googleapis.com%2fauth%2fpeopleapi.readonly\n",
            "\n",
            "Enter your authorization code:\n",
            "··········\n",
            "Mounted at /content/drive\n"
          ],
          "name": "stdout"
        }
      ]
    },
    {
      "cell_type": "code",
      "metadata": {
        "id": "5KgRCIveksSP",
        "outputId": "540398cb-265e-44be-9808-7d8b4ed0eddc",
        "colab": {
          "base_uri": "https://localhost:8080/",
          "height": 52
        }
      },
      "source": [
        "!ls drive/My\\ Drive/data"
      ],
      "execution_count": null,
      "outputs": [
        {
          "output_type": "stream",
          "text": [
            " chromosomesGRCh37  'Jupyter — копия.rar'   sitesV3\n",
            " hocomoco\t     sites\t\t    sorted_snps_positions_per_type\n"
          ],
          "name": "stdout"
        }
      ]
    },
    {
      "cell_type": "code",
      "metadata": {
        "id": "j5xB8jM9lhgm",
        "outputId": "fae0e9bc-62a5-4d1a-e458-4757078afb4e",
        "colab": {
          "base_uri": "https://localhost:8080/",
          "height": 121
        }
      },
      "source": [
        "os.listdir('drive/My Drive/data/')"
      ],
      "execution_count": null,
      "outputs": [
        {
          "output_type": "execute_result",
          "data": {
            "text/plain": [
              "['chromosomesGRCh37',\n",
              " 'sites',\n",
              " 'sitesV3',\n",
              " 'hocomoco',\n",
              " 'sorted_snps_positions_per_type',\n",
              " 'Jupyter — копия.rar']"
            ]
          },
          "metadata": {
            "tags": []
          },
          "execution_count": 4
        }
      ]
    },
    {
      "cell_type": "code",
      "metadata": {
        "id": "1ympn76VkYJP"
      },
      "source": [
        "def load_hocomoco_motif(file_name):\n",
        "    motif_list = []\n",
        "    with open(file_name, 'r') as f:\n",
        "        data = f.read().split('>')[1:]\n",
        "        for motif in data:\n",
        "            motif = motif.split('\\n')\n",
        "            motif_name = motif[0]\n",
        "            motif_matrix = list(\n",
        "                list(map(float, i.split())) + [-10.0] for i in motif[1:] if i\n",
        "            )\n",
        "            motif_list.append([motif_name, motif_matrix])\n",
        "\n",
        "    return motif_list"
      ],
      "execution_count": null,
      "outputs": []
    },
    {
      "cell_type": "code",
      "metadata": {
        "id": "9r22GNr0fS0V"
      },
      "source": [
        "def get_lenth_motifs(hcm_matrixes):\n",
        "    motifs_lenth = [[motif[0], motif[1], len(motif[1])] for motif in hcm_matrixes]\n",
        "    lenth_motifs = {}\n",
        "    for motif in motifs_lenth:\n",
        "        if motif[2] not in lenth_motifs:\n",
        "            lenth_motifs[motif[2]] = [motif[:2]]\n",
        "        else:\n",
        "            lenth_motifs[motif[2]].append(motif[:2])\n",
        "    return lenth_motifs"
      ],
      "execution_count": null,
      "outputs": []
    },
    {
      "cell_type": "code",
      "metadata": {
        "id": "SieqoADAkYJU"
      },
      "source": [
        "NUCL_STRING = 'ACGT'\n",
        "\n",
        "def load_fasta_from_gzip(fasta_gzip_name):\n",
        "    with gzip.open(fasta_gzip_name, 'rb') as f:\n",
        "        data = f.read().decode(\"utf-8\")\n",
        "        data = ''.join(data.strip('\\n').split('\\n')[1:])\n",
        "        print('Длина ДНК - ', len(data))\n",
        "        return data\n",
        "\n",
        "\n",
        "def one_hot_dna(seq):\n",
        "    ''' Convert ACGT to 0123'''\n",
        "    seq = seq.replace('A', '0').replace('C', '1').replace('G', '2').replace('T', '3').replace('N', '4').replace('M', '4').replace('R', '4')\n",
        "    seq = list(map(int, list(seq)))\n",
        "    seq = torch.tensor(seq, dtype=torch.long)\n",
        "    seq_onehot = torch.zeros((seq.size()[0], 5), dtype=torch.uint8)\n",
        "    seq_onehot.scatter_(1, seq.unsqueeze(1), 1)\n",
        "    seq_onehot = seq_onehot.type(torch.float)\n",
        "    del seq\n",
        "\n",
        "    return seq_onehot\n",
        "\n",
        "\n",
        "def get_reverse_complement(seq):\n",
        "    seq = seq[::-1]\n",
        "    seq = seq.replace('A', '0').replace('C', '1').replace('G', '2').replace('T', '3')\n",
        "    seq = seq.replace('3', 'A').replace('2', 'C').replace('1', 'G').replace('0', 'T')\n",
        "    return seq\n",
        "\n",
        "\n",
        "def get_reverse_complement_motif(motif):\n",
        "    motif = motif.flip(dims=(0,))\n",
        "    motif = torch.cat((motif.flip(dims=(1,))[:,1:], motif.flip(dims=(1,))[:,:1]), dim=1)\n",
        "    return motif"
      ],
      "execution_count": null,
      "outputs": []
    },
    {
      "cell_type": "code",
      "metadata": {
        "id": "BnMcjQN0kYJY"
      },
      "source": [
        "def find_all_motif_scores(motifs_batch, seq, chr_name, buff_len=10000000):\n",
        "\n",
        "    batch_motifs_len = motifs_batch[0]['motif_tensor'].size()[0]\n",
        "    for motif in motifs_batch:\n",
        "        motif['treshold_pass_sites'] =  []\n",
        "        motif['reverse_treshold_pass_sites'] = []\n",
        "\n",
        "    iterations = len(seq) // buff_len + 1\n",
        "    dna_pos = 1\n",
        "    for i in range(iterations):\n",
        "        print('Iter', i, iterations)\n",
        "        useless_tail = - batch_motifs_len + 1  # при подсчете скоров происходит сдвиг влево, потому последние значения не верны\n",
        "        start_i = i * buff_len if i == 0 else i * buff_len + useless_tail\n",
        "        end_i = (i + 1) * buff_len if i != iterations - 1 else i * buff_len + len(seq) % buff_len\n",
        "            \n",
        "        sub_seq = seq[start_i:end_i]\n",
        "        if len(sub_seq) < batch_motifs_len:\n",
        "            continue\n",
        "        sub_seq = one_hot_dna(sub_seq)\n",
        "        \n",
        "        for motif in motifs_batch:\n",
        "            motif_tensor = motif['motif_tensor']\n",
        "            reverse_motif_tensor = motif['reverse_motif_tensor']\n",
        "            treshold = motif['motif_treshold_90']\n",
        "\n",
        "            mm_motif_seq = torch.mm(motif_tensor, sub_seq.T)\n",
        "            scores = get_scores(mm_motif_seq, motif_tensor)\n",
        "\n",
        "            reverse_mm_motif_seq = torch.mm(reverse_motif_tensor, sub_seq.T)\n",
        "            reverse_scores = get_scores(reverse_mm_motif_seq, reverse_motif_tensor)\n",
        "\n",
        "            if treshold:\n",
        "                score_treshold = treshold\n",
        "\n",
        "                scores = scores[:useless_tail]\n",
        "                indices = (score_treshold < scores).nonzero()\n",
        "                for i, value in zip(indices.tolist(), scores[indices].tolist()):\n",
        "                    motif['treshold_pass_sites'].append('{}\\t{}\\n'.format(str(i[0] + dna_pos), str(int(round(value[0], 2))*100)))\n",
        "\n",
        "                reverse_scores = reverse_scores[:useless_tail]\n",
        "                indices = (score_treshold < reverse_scores).nonzero()\n",
        "                for i, value in zip(indices.tolist(), reverse_scores[indices].tolist()):\n",
        "                    motif['reverse_treshold_pass_sites'].append('{}\\t{}\\n'.format(str(i[0] + dna_pos), str(int(round(value[0], 2))*100)))\n",
        "\n",
        "        dna_pos += scores.size()[0]\n",
        "            \n",
        "    \n",
        "    for motif in motifs_batch:\n",
        "        output_gzip_file = motif['output_gzip_file_template'].format(chr_name)\n",
        "        reverse_output_gzip_file = motif['reverse_output_gzip_file_template'].format(chr_name)\n",
        "\n",
        "        with gzip.open(output_gzip_file, 'wb') as output_file:\n",
        "            print('Dumping...', motif['motif_name'])\n",
        "            output_file.write(''.join(motif['treshold_pass_sites']).encode('utf-8'))\n",
        "            print('Dumping... - ready!')\n",
        "\n",
        "        with gzip.open(reverse_output_gzip_file, 'wb') as output_file:\n",
        "            print('Dumping reverse...', motif['motif_name'])\n",
        "            output_file.write(''.join(motif['reverse_treshold_pass_sites']).encode('utf-8'))\n",
        "            print('Dumping  reverse... - ready!')\n",
        "\n",
        "    return len(motifs_batch)\n",
        "\n",
        "\n",
        "def get_scores(mm_motif_seq, motif):\n",
        "    motif_len = motif.size()[0]\n",
        "    scores = mm_motif_seq[0]\n",
        "    for i in range(1, motif_len):\n",
        "        scores += torch.cat((\n",
        "            mm_motif_seq[i][i:],\n",
        "            torch.tensor([0 for _ in range(i)], dtype=torch.float)\n",
        "        ))\n",
        "    return scores\n",
        "\n",
        "def join_dicts(dict1, dict2):\n",
        "    for key, value in dict2.items():\n",
        "        if key in dict1:\n",
        "            dict1[key] += value\n",
        "        else:\n",
        "            dict1[key] = value\n",
        "    return dict1"
      ],
      "execution_count": null,
      "outputs": []
    },
    {
      "cell_type": "code",
      "metadata": {
        "id": "oTDPV8kCkYJc"
      },
      "source": [
        "def best_motif_score(motif):\n",
        "    best_score = 0\n",
        "    for i in motif[1]:\n",
        "        if len(i) > 4:\n",
        "            i = i[:-1]\n",
        "        best_score += max(i)\n",
        "    return best_score\n",
        "\n",
        "\n",
        "def worst_motif_score(motif):\n",
        "    worst_score = 0\n",
        "    for i in motif[1]:\n",
        "        if len(i) > 4:\n",
        "            i = i[:-1]\n",
        "        worst_score += min(i)\n",
        "    return worst_score"
      ],
      "execution_count": null,
      "outputs": []
    },
    {
      "cell_type": "code",
      "metadata": {
        "id": "i6cO7Q2BkYJg"
      },
      "source": [
        "hcm_matrixes = load_hocomoco_motif('drive/My Drive/data/hocomoco/HOCOMOCOv11_core_pwms_HUMAN_mono.txt')\n",
        "lenth_motifs = get_lenth_motifs(hcm_matrixes)"
      ],
      "execution_count": null,
      "outputs": []
    },
    {
      "cell_type": "code",
      "metadata": {
        "id": "-m5KrGhxkYJl"
      },
      "source": [
        "shuffled_motifs_dir = 'drive/My Drive/data/hocomoco/'\n",
        "def save_motif(motif):\n",
        "    name = motif[0]\n",
        "    with open(os.path.join(shuffled_motifs_dir, name + '.txt'), 'w') as out:\n",
        "        out.write('>%s\\n' % motif[0])\n",
        "        for node in motif[1]:\n",
        "            out.write('\\t'.join(list(map(str, node))) + '\\n')"
      ],
      "execution_count": null,
      "outputs": []
    },
    {
      "cell_type": "code",
      "metadata": {
        "id": "DtZa60lOmgD9"
      },
      "source": [
        "output_sites_dir = 'drive/My Drive/data/sitesV3/'\n",
        "\n",
        "def prepare_motifs(lenth_motifs, len_m):\n",
        "    if len_m not in lenth_motifs:\n",
        "        print('Error, key {} not exist'.format(len_m))\n",
        "        return 0\n",
        "        \n",
        "    motifs = lenth_motifs[len_m]\n",
        "    \n",
        "    motifs_batch = []\n",
        "    for motif in motifs:\n",
        "        shuffled_motif = copy.deepcopy(motif)\n",
        "        random.shuffle(shuffled_motif[1])\n",
        "        shuffled_motif[0] = 'shuffled_' + shuffled_motif[0]\n",
        "        save_motif(shuffled_motif)\n",
        "        \n",
        "        motif_tensor = torch.tensor(motif[1])\n",
        "        reverse_motif_tensor = get_reverse_complement_motif(motif_tensor)\n",
        "        motif_name = motif[0]\n",
        "        print(motif_name)\n",
        "        print('best_motif_score', best_motif_score(motif))\n",
        "        print('worst_motif_score', worst_motif_score(motif))\n",
        "        print('90% treshold - ', worst_motif_score(motif) + (best_motif_score(motif) - worst_motif_score(motif))*0.9)\n",
        "        motif_treshold_90 = worst_motif_score(motif) + (best_motif_score(motif) - worst_motif_score(motif))*0.9\n",
        "        motif_treshold_90 = round(motif_treshold_90, 2)\n",
        "        \n",
        "        outupt_dir_path = os.path.join(output_sites_dir, motif_name)\n",
        "        if not os.path.exists(outupt_dir_path):\n",
        "            os.makedirs(outupt_dir_path)\n",
        "        \n",
        "        output_file_path = os.path.join(outupt_dir_path, '{}_sites.txt.gz')\n",
        "        reverse_output_file_path = os.path.join(outupt_dir_path, '{}_sites_revers_compl.txt.gz')\n",
        "        \n",
        "        motifs_batch.append({\n",
        "            'motif_name': motif_name,\n",
        "            'motif_tensor': motif_tensor,\n",
        "            'reverse_motif_tensor': reverse_motif_tensor,\n",
        "            'motif_treshold_90': motif_treshold_90,\n",
        "            'output_gzip_file_template': output_file_path,\n",
        "            'reverse_output_gzip_file_template': reverse_output_file_path,\n",
        "        })\n",
        "    return motifs_batch"
      ],
      "execution_count": null,
      "outputs": []
    },
    {
      "cell_type": "code",
      "metadata": {
        "id": "FjBNOCfGf2LY",
        "outputId": "087d586b-3df6-41fd-c4b5-bd70443397d1",
        "colab": {
          "base_uri": "https://localhost:8080/",
          "height": 781
        }
      },
      "source": [
        "motifs_batch = prepare_motifs(lenth_motifs, len_m=24)"
      ],
      "execution_count": null,
      "outputs": [
        {
          "output_type": "stream",
          "text": [
            "OZF_HUMAN.H11MO.0.C\n",
            "best_motif_score 30.016436321434384\n",
            "worst_motif_score -91.05913351738391\n",
            "90% treshold -  17.908879337552563\n",
            "Z354A_HUMAN.H11MO.0.C\n",
            "best_motif_score 22.825122381459668\n",
            "worst_motif_score -35.63336986122978\n",
            "90% treshold -  16.97927315719072\n",
            "ZFP82_HUMAN.H11MO.0.C\n",
            "best_motif_score 22.895454369305103\n",
            "worst_motif_score -44.070585192176914\n",
            "90% treshold -  16.198850413156904\n",
            "ZN136_HUMAN.H11MO.0.C\n",
            "best_motif_score 27.64913325806326\n",
            "worst_motif_score -60.79246750292708\n",
            "90% treshold -  18.80497318196423\n",
            "ZN140_HUMAN.H11MO.0.C\n",
            "best_motif_score 23.989702276851855\n",
            "worst_motif_score -48.88321321479798\n",
            "90% treshold -  16.702410727686875\n",
            "ZN260_HUMAN.H11MO.0.C\n",
            "best_motif_score 27.817469536637343\n",
            "worst_motif_score -71.06967558312219\n",
            "90% treshold -  17.9287550246614\n",
            "ZN264_HUMAN.H11MO.0.C\n",
            "best_motif_score 21.608781879390545\n",
            "worst_motif_score -39.268355679503976\n",
            "90% treshold -  15.521068123501088\n",
            "ZN436_HUMAN.H11MO.0.C\n",
            "best_motif_score 28.655263888353165\n",
            "worst_motif_score -73.86917641496193\n",
            "90% treshold -  18.402819858021658\n",
            "ZN490_HUMAN.H11MO.0.C\n",
            "best_motif_score 27.362046400546504\n",
            "worst_motif_score -81.59202949394547\n",
            "90% treshold -  16.46663881109731\n",
            "ZN582_HUMAN.H11MO.0.C\n",
            "best_motif_score 22.897782644478937\n",
            "worst_motif_score -56.0269609005971\n",
            "90% treshold -  15.005308289971339\n",
            "ZNF41_HUMAN.H11MO.0.C\n",
            "best_motif_score 22.985899143519223\n",
            "worst_motif_score -44.31322804857664\n",
            "90% treshold -  16.25598642430964\n"
          ],
          "name": "stdout"
        }
      ]
    },
    {
      "cell_type": "code",
      "metadata": {
        "id": "MvPKpeC2kYJr"
      },
      "source": [
        "chromosomes_dir = 'drive/My Drive/data/chromosomesGRCh37/'\n",
        "\n",
        "def find_sites(motifs_batch):\n",
        "    for file_name in sorted(os.listdir(chromosomes_dir)):\n",
        "        print(file_name)\n",
        "        chr_name = file_name.split('.')[0]\n",
        "\n",
        "        seq = load_fasta_from_gzip(os.path.join(chromosomes_dir, file_name))\n",
        "        \n",
        "        pass_treshold_sites = find_all_motif_scores(\n",
        "            motifs_batch=motifs_batch,\n",
        "            seq=seq,\n",
        "            chr_name=chr_name,\n",
        "        )"
      ],
      "execution_count": null,
      "outputs": []
    },
    {
      "cell_type": "code",
      "metadata": {
        "id": "oDXHDxGtkYJv",
        "outputId": "bf6c5979-94d4-4cf7-ff35-fa97235317e1",
        "colab": {
          "base_uri": "https://localhost:8080/",
          "height": 1000
        }
      },
      "source": [
        "%time find_sites(motifs_batch)"
      ],
      "execution_count": null,
      "outputs": [
        {
          "output_type": "stream",
          "text": [
            "chr1.fa.gz\n",
            "Длина ДНК -  249250621\n",
            "Iter 0 25\n",
            "Iter 1 25\n",
            "Iter 2 25\n",
            "Iter 3 25\n",
            "Iter 4 25\n",
            "Iter 5 25\n",
            "Iter 6 25\n",
            "Iter 7 25\n",
            "Iter 8 25\n",
            "Iter 9 25\n",
            "Iter 10 25\n",
            "Iter 11 25\n",
            "Iter 12 25\n",
            "Iter 13 25\n",
            "Iter 14 25\n",
            "Iter 15 25\n",
            "Iter 16 25\n",
            "Iter 17 25\n",
            "Iter 18 25\n",
            "Iter 19 25\n",
            "Iter 20 25\n",
            "Iter 21 25\n",
            "Iter 22 25\n",
            "Iter 23 25\n",
            "Iter 24 25\n",
            "Dumping... OZF_HUMAN.H11MO.0.C\n",
            "Dumping... - ready!\n",
            "Dumping reverse... OZF_HUMAN.H11MO.0.C\n",
            "Dumping  reverse... - ready!\n",
            "Dumping... Z354A_HUMAN.H11MO.0.C\n",
            "Dumping... - ready!\n",
            "Dumping reverse... Z354A_HUMAN.H11MO.0.C\n",
            "Dumping  reverse... - ready!\n",
            "Dumping... ZFP82_HUMAN.H11MO.0.C\n",
            "Dumping... - ready!\n",
            "Dumping reverse... ZFP82_HUMAN.H11MO.0.C\n",
            "Dumping  reverse... - ready!\n",
            "Dumping... ZN136_HUMAN.H11MO.0.C\n",
            "Dumping... - ready!\n",
            "Dumping reverse... ZN136_HUMAN.H11MO.0.C\n",
            "Dumping  reverse... - ready!\n",
            "Dumping... ZN140_HUMAN.H11MO.0.C\n",
            "Dumping... - ready!\n",
            "Dumping reverse... ZN140_HUMAN.H11MO.0.C\n",
            "Dumping  reverse... - ready!\n",
            "Dumping... ZN260_HUMAN.H11MO.0.C\n",
            "Dumping... - ready!\n",
            "Dumping reverse... ZN260_HUMAN.H11MO.0.C\n",
            "Dumping  reverse... - ready!\n",
            "Dumping... ZN264_HUMAN.H11MO.0.C\n",
            "Dumping... - ready!\n",
            "Dumping reverse... ZN264_HUMAN.H11MO.0.C\n",
            "Dumping  reverse... - ready!\n",
            "Dumping... ZN436_HUMAN.H11MO.0.C\n",
            "Dumping... - ready!\n",
            "Dumping reverse... ZN436_HUMAN.H11MO.0.C\n",
            "Dumping  reverse... - ready!\n",
            "Dumping... ZN490_HUMAN.H11MO.0.C\n",
            "Dumping... - ready!\n",
            "Dumping reverse... ZN490_HUMAN.H11MO.0.C\n",
            "Dumping  reverse... - ready!\n",
            "Dumping... ZN582_HUMAN.H11MO.0.C\n",
            "Dumping... - ready!\n",
            "Dumping reverse... ZN582_HUMAN.H11MO.0.C\n",
            "Dumping  reverse... - ready!\n",
            "Dumping... ZNF41_HUMAN.H11MO.0.C\n",
            "Dumping... - ready!\n",
            "Dumping reverse... ZNF41_HUMAN.H11MO.0.C\n",
            "Dumping  reverse... - ready!\n",
            "chr10.fa.gz\n",
            "Длина ДНК -  135534747\n",
            "Iter 0 14\n",
            "Iter 1 14\n",
            "Iter 2 14\n",
            "Iter 3 14\n",
            "Iter 4 14\n",
            "Iter 5 14\n",
            "Iter 6 14\n",
            "Iter 7 14\n",
            "Iter 8 14\n",
            "Iter 9 14\n",
            "Iter 10 14\n",
            "Iter 11 14\n",
            "Iter 12 14\n",
            "Iter 13 14\n",
            "Dumping... OZF_HUMAN.H11MO.0.C\n",
            "Dumping... - ready!\n",
            "Dumping reverse... OZF_HUMAN.H11MO.0.C\n",
            "Dumping  reverse... - ready!\n",
            "Dumping... Z354A_HUMAN.H11MO.0.C\n",
            "Dumping... - ready!\n",
            "Dumping reverse... Z354A_HUMAN.H11MO.0.C\n",
            "Dumping  reverse... - ready!\n",
            "Dumping... ZFP82_HUMAN.H11MO.0.C\n",
            "Dumping... - ready!\n",
            "Dumping reverse... ZFP82_HUMAN.H11MO.0.C\n",
            "Dumping  reverse... - ready!\n",
            "Dumping... ZN136_HUMAN.H11MO.0.C\n",
            "Dumping... - ready!\n",
            "Dumping reverse... ZN136_HUMAN.H11MO.0.C\n",
            "Dumping  reverse... - ready!\n",
            "Dumping... ZN140_HUMAN.H11MO.0.C\n",
            "Dumping... - ready!\n",
            "Dumping reverse... ZN140_HUMAN.H11MO.0.C\n",
            "Dumping  reverse... - ready!\n",
            "Dumping... ZN260_HUMAN.H11MO.0.C\n",
            "Dumping... - ready!\n",
            "Dumping reverse... ZN260_HUMAN.H11MO.0.C\n",
            "Dumping  reverse... - ready!\n",
            "Dumping... ZN264_HUMAN.H11MO.0.C\n",
            "Dumping... - ready!\n",
            "Dumping reverse... ZN264_HUMAN.H11MO.0.C\n",
            "Dumping  reverse... - ready!\n",
            "Dumping... ZN436_HUMAN.H11MO.0.C\n",
            "Dumping... - ready!\n",
            "Dumping reverse... ZN436_HUMAN.H11MO.0.C\n",
            "Dumping  reverse... - ready!\n",
            "Dumping... ZN490_HUMAN.H11MO.0.C\n",
            "Dumping... - ready!\n",
            "Dumping reverse... ZN490_HUMAN.H11MO.0.C\n",
            "Dumping  reverse... - ready!\n",
            "Dumping... ZN582_HUMAN.H11MO.0.C\n",
            "Dumping... - ready!\n",
            "Dumping reverse... ZN582_HUMAN.H11MO.0.C\n",
            "Dumping  reverse... - ready!\n",
            "Dumping... ZNF41_HUMAN.H11MO.0.C\n",
            "Dumping... - ready!\n",
            "Dumping reverse... ZNF41_HUMAN.H11MO.0.C\n",
            "Dumping  reverse... - ready!\n",
            "chr11.fa.gz\n",
            "Длина ДНК -  135006516\n",
            "Iter 0 14\n",
            "Iter 1 14\n",
            "Iter 2 14\n",
            "Iter 3 14\n",
            "Iter 4 14\n",
            "Iter 5 14\n",
            "Iter 6 14\n",
            "Iter 7 14\n",
            "Iter 8 14\n",
            "Iter 9 14\n",
            "Iter 10 14\n",
            "Iter 11 14\n",
            "Iter 12 14\n",
            "Iter 13 14\n",
            "Dumping... OZF_HUMAN.H11MO.0.C\n",
            "Dumping... - ready!\n",
            "Dumping reverse... OZF_HUMAN.H11MO.0.C\n",
            "Dumping  reverse... - ready!\n",
            "Dumping... Z354A_HUMAN.H11MO.0.C\n",
            "Dumping... - ready!\n",
            "Dumping reverse... Z354A_HUMAN.H11MO.0.C\n",
            "Dumping  reverse... - ready!\n",
            "Dumping... ZFP82_HUMAN.H11MO.0.C\n",
            "Dumping... - ready!\n",
            "Dumping reverse... ZFP82_HUMAN.H11MO.0.C\n",
            "Dumping  reverse... - ready!\n",
            "Dumping... ZN136_HUMAN.H11MO.0.C\n",
            "Dumping... - ready!\n",
            "Dumping reverse... ZN136_HUMAN.H11MO.0.C\n",
            "Dumping  reverse... - ready!\n",
            "Dumping... ZN140_HUMAN.H11MO.0.C\n",
            "Dumping... - ready!\n",
            "Dumping reverse... ZN140_HUMAN.H11MO.0.C\n",
            "Dumping  reverse... - ready!\n",
            "Dumping... ZN260_HUMAN.H11MO.0.C\n",
            "Dumping... - ready!\n",
            "Dumping reverse... ZN260_HUMAN.H11MO.0.C\n",
            "Dumping  reverse... - ready!\n",
            "Dumping... ZN264_HUMAN.H11MO.0.C\n",
            "Dumping... - ready!\n",
            "Dumping reverse... ZN264_HUMAN.H11MO.0.C\n",
            "Dumping  reverse... - ready!\n",
            "Dumping... ZN436_HUMAN.H11MO.0.C\n",
            "Dumping... - ready!\n",
            "Dumping reverse... ZN436_HUMAN.H11MO.0.C\n",
            "Dumping  reverse... - ready!\n",
            "Dumping... ZN490_HUMAN.H11MO.0.C\n",
            "Dumping... - ready!\n",
            "Dumping reverse... ZN490_HUMAN.H11MO.0.C\n",
            "Dumping  reverse... - ready!\n",
            "Dumping... ZN582_HUMAN.H11MO.0.C\n",
            "Dumping... - ready!\n",
            "Dumping reverse... ZN582_HUMAN.H11MO.0.C\n",
            "Dumping  reverse... - ready!\n",
            "Dumping... ZNF41_HUMAN.H11MO.0.C\n",
            "Dumping... - ready!\n",
            "Dumping reverse... ZNF41_HUMAN.H11MO.0.C\n",
            "Dumping  reverse... - ready!\n",
            "chr12.fa.gz\n",
            "Длина ДНК -  133851895\n",
            "Iter 0 14\n",
            "Iter 1 14\n",
            "Iter 2 14\n",
            "Iter 3 14\n",
            "Iter 4 14\n",
            "Iter 5 14\n",
            "Iter 6 14\n",
            "Iter 7 14\n",
            "Iter 8 14\n",
            "Iter 9 14\n",
            "Iter 10 14\n",
            "Iter 11 14\n",
            "Iter 12 14\n",
            "Iter 13 14\n",
            "Dumping... OZF_HUMAN.H11MO.0.C\n",
            "Dumping... - ready!\n",
            "Dumping reverse... OZF_HUMAN.H11MO.0.C\n",
            "Dumping  reverse... - ready!\n",
            "Dumping... Z354A_HUMAN.H11MO.0.C\n",
            "Dumping... - ready!\n",
            "Dumping reverse... Z354A_HUMAN.H11MO.0.C\n",
            "Dumping  reverse... - ready!\n",
            "Dumping... ZFP82_HUMAN.H11MO.0.C\n",
            "Dumping... - ready!\n",
            "Dumping reverse... ZFP82_HUMAN.H11MO.0.C\n",
            "Dumping  reverse... - ready!\n",
            "Dumping... ZN136_HUMAN.H11MO.0.C\n",
            "Dumping... - ready!\n",
            "Dumping reverse... ZN136_HUMAN.H11MO.0.C\n",
            "Dumping  reverse... - ready!\n",
            "Dumping... ZN140_HUMAN.H11MO.0.C\n",
            "Dumping... - ready!\n",
            "Dumping reverse... ZN140_HUMAN.H11MO.0.C\n",
            "Dumping  reverse... - ready!\n",
            "Dumping... ZN260_HUMAN.H11MO.0.C\n",
            "Dumping... - ready!\n",
            "Dumping reverse... ZN260_HUMAN.H11MO.0.C\n",
            "Dumping  reverse... - ready!\n",
            "Dumping... ZN264_HUMAN.H11MO.0.C\n",
            "Dumping... - ready!\n",
            "Dumping reverse... ZN264_HUMAN.H11MO.0.C\n",
            "Dumping  reverse... - ready!\n",
            "Dumping... ZN436_HUMAN.H11MO.0.C\n",
            "Dumping... - ready!\n",
            "Dumping reverse... ZN436_HUMAN.H11MO.0.C\n",
            "Dumping  reverse... - ready!\n",
            "Dumping... ZN490_HUMAN.H11MO.0.C\n",
            "Dumping... - ready!\n",
            "Dumping reverse... ZN490_HUMAN.H11MO.0.C\n",
            "Dumping  reverse... - ready!\n",
            "Dumping... ZN582_HUMAN.H11MO.0.C\n",
            "Dumping... - ready!\n",
            "Dumping reverse... ZN582_HUMAN.H11MO.0.C\n",
            "Dumping  reverse... - ready!\n",
            "Dumping... ZNF41_HUMAN.H11MO.0.C\n",
            "Dumping... - ready!\n",
            "Dumping reverse... ZNF41_HUMAN.H11MO.0.C\n",
            "Dumping  reverse... - ready!\n",
            "chr13.fa.gz\n",
            "Длина ДНК -  115169878\n",
            "Iter 0 12\n",
            "Iter 1 12\n",
            "Iter 2 12\n",
            "Iter 3 12\n",
            "Iter 4 12\n",
            "Iter 5 12\n",
            "Iter 6 12\n",
            "Iter 7 12\n",
            "Iter 8 12\n",
            "Iter 9 12\n",
            "Iter 10 12\n",
            "Iter 11 12\n",
            "Dumping... OZF_HUMAN.H11MO.0.C\n",
            "Dumping... - ready!\n",
            "Dumping reverse... OZF_HUMAN.H11MO.0.C\n",
            "Dumping  reverse... - ready!\n",
            "Dumping... Z354A_HUMAN.H11MO.0.C\n",
            "Dumping... - ready!\n",
            "Dumping reverse... Z354A_HUMAN.H11MO.0.C\n",
            "Dumping  reverse... - ready!\n",
            "Dumping... ZFP82_HUMAN.H11MO.0.C\n",
            "Dumping... - ready!\n",
            "Dumping reverse... ZFP82_HUMAN.H11MO.0.C\n",
            "Dumping  reverse... - ready!\n",
            "Dumping... ZN136_HUMAN.H11MO.0.C\n",
            "Dumping... - ready!\n",
            "Dumping reverse... ZN136_HUMAN.H11MO.0.C\n",
            "Dumping  reverse... - ready!\n",
            "Dumping... ZN140_HUMAN.H11MO.0.C\n",
            "Dumping... - ready!\n",
            "Dumping reverse... ZN140_HUMAN.H11MO.0.C\n",
            "Dumping  reverse... - ready!\n",
            "Dumping... ZN260_HUMAN.H11MO.0.C\n",
            "Dumping... - ready!\n",
            "Dumping reverse... ZN260_HUMAN.H11MO.0.C\n",
            "Dumping  reverse... - ready!\n",
            "Dumping... ZN264_HUMAN.H11MO.0.C\n",
            "Dumping... - ready!\n",
            "Dumping reverse... ZN264_HUMAN.H11MO.0.C\n",
            "Dumping  reverse... - ready!\n",
            "Dumping... ZN436_HUMAN.H11MO.0.C\n",
            "Dumping... - ready!\n",
            "Dumping reverse... ZN436_HUMAN.H11MO.0.C\n",
            "Dumping  reverse... - ready!\n",
            "Dumping... ZN490_HUMAN.H11MO.0.C\n",
            "Dumping... - ready!\n",
            "Dumping reverse... ZN490_HUMAN.H11MO.0.C\n",
            "Dumping  reverse... - ready!\n",
            "Dumping... ZN582_HUMAN.H11MO.0.C\n",
            "Dumping... - ready!\n",
            "Dumping reverse... ZN582_HUMAN.H11MO.0.C\n",
            "Dumping  reverse... - ready!\n",
            "Dumping... ZNF41_HUMAN.H11MO.0.C\n",
            "Dumping... - ready!\n",
            "Dumping reverse... ZNF41_HUMAN.H11MO.0.C\n",
            "Dumping  reverse... - ready!\n",
            "chr14.fa.gz\n",
            "Длина ДНК -  107349540\n",
            "Iter 0 11\n",
            "Iter 1 11\n",
            "Iter 2 11\n",
            "Iter 3 11\n",
            "Iter 4 11\n",
            "Iter 5 11\n",
            "Iter 6 11\n",
            "Iter 7 11\n",
            "Iter 8 11\n",
            "Iter 9 11\n",
            "Iter 10 11\n",
            "Dumping... OZF_HUMAN.H11MO.0.C\n",
            "Dumping... - ready!\n",
            "Dumping reverse... OZF_HUMAN.H11MO.0.C\n",
            "Dumping  reverse... - ready!\n",
            "Dumping... Z354A_HUMAN.H11MO.0.C\n",
            "Dumping... - ready!\n",
            "Dumping reverse... Z354A_HUMAN.H11MO.0.C\n",
            "Dumping  reverse... - ready!\n",
            "Dumping... ZFP82_HUMAN.H11MO.0.C\n",
            "Dumping... - ready!\n",
            "Dumping reverse... ZFP82_HUMAN.H11MO.0.C\n",
            "Dumping  reverse... - ready!\n",
            "Dumping... ZN136_HUMAN.H11MO.0.C\n",
            "Dumping... - ready!\n",
            "Dumping reverse... ZN136_HUMAN.H11MO.0.C\n",
            "Dumping  reverse... - ready!\n",
            "Dumping... ZN140_HUMAN.H11MO.0.C\n",
            "Dumping... - ready!\n",
            "Dumping reverse... ZN140_HUMAN.H11MO.0.C\n",
            "Dumping  reverse... - ready!\n",
            "Dumping... ZN260_HUMAN.H11MO.0.C\n",
            "Dumping... - ready!\n",
            "Dumping reverse... ZN260_HUMAN.H11MO.0.C\n",
            "Dumping  reverse... - ready!\n",
            "Dumping... ZN264_HUMAN.H11MO.0.C\n",
            "Dumping... - ready!\n",
            "Dumping reverse... ZN264_HUMAN.H11MO.0.C\n",
            "Dumping  reverse... - ready!\n",
            "Dumping... ZN436_HUMAN.H11MO.0.C\n",
            "Dumping... - ready!\n",
            "Dumping reverse... ZN436_HUMAN.H11MO.0.C\n",
            "Dumping  reverse... - ready!\n",
            "Dumping... ZN490_HUMAN.H11MO.0.C\n",
            "Dumping... - ready!\n",
            "Dumping reverse... ZN490_HUMAN.H11MO.0.C\n",
            "Dumping  reverse... - ready!\n",
            "Dumping... ZN582_HUMAN.H11MO.0.C\n",
            "Dumping... - ready!\n",
            "Dumping reverse... ZN582_HUMAN.H11MO.0.C\n",
            "Dumping  reverse... - ready!\n",
            "Dumping... ZNF41_HUMAN.H11MO.0.C\n",
            "Dumping... - ready!\n",
            "Dumping reverse... ZNF41_HUMAN.H11MO.0.C\n",
            "Dumping  reverse... - ready!\n",
            "chr15.fa.gz\n",
            "Длина ДНК -  102531392\n",
            "Iter 0 11\n",
            "Iter 1 11\n",
            "Iter 2 11\n",
            "Iter 3 11\n",
            "Iter 4 11\n",
            "Iter 5 11\n",
            "Iter 6 11\n",
            "Iter 7 11\n",
            "Iter 8 11\n",
            "Iter 9 11\n",
            "Iter 10 11\n",
            "Dumping... OZF_HUMAN.H11MO.0.C\n",
            "Dumping... - ready!\n",
            "Dumping reverse... OZF_HUMAN.H11MO.0.C\n",
            "Dumping  reverse... - ready!\n",
            "Dumping... Z354A_HUMAN.H11MO.0.C\n",
            "Dumping... - ready!\n",
            "Dumping reverse... Z354A_HUMAN.H11MO.0.C\n",
            "Dumping  reverse... - ready!\n",
            "Dumping... ZFP82_HUMAN.H11MO.0.C\n",
            "Dumping... - ready!\n",
            "Dumping reverse... ZFP82_HUMAN.H11MO.0.C\n",
            "Dumping  reverse... - ready!\n",
            "Dumping... ZN136_HUMAN.H11MO.0.C\n",
            "Dumping... - ready!\n",
            "Dumping reverse... ZN136_HUMAN.H11MO.0.C\n",
            "Dumping  reverse... - ready!\n",
            "Dumping... ZN140_HUMAN.H11MO.0.C\n",
            "Dumping... - ready!\n",
            "Dumping reverse... ZN140_HUMAN.H11MO.0.C\n",
            "Dumping  reverse... - ready!\n",
            "Dumping... ZN260_HUMAN.H11MO.0.C\n",
            "Dumping... - ready!\n",
            "Dumping reverse... ZN260_HUMAN.H11MO.0.C\n",
            "Dumping  reverse... - ready!\n",
            "Dumping... ZN264_HUMAN.H11MO.0.C\n",
            "Dumping... - ready!\n",
            "Dumping reverse... ZN264_HUMAN.H11MO.0.C\n",
            "Dumping  reverse... - ready!\n",
            "Dumping... ZN436_HUMAN.H11MO.0.C\n",
            "Dumping... - ready!\n",
            "Dumping reverse... ZN436_HUMAN.H11MO.0.C\n",
            "Dumping  reverse... - ready!\n",
            "Dumping... ZN490_HUMAN.H11MO.0.C\n",
            "Dumping... - ready!\n",
            "Dumping reverse... ZN490_HUMAN.H11MO.0.C\n",
            "Dumping  reverse... - ready!\n",
            "Dumping... ZN582_HUMAN.H11MO.0.C\n",
            "Dumping... - ready!\n",
            "Dumping reverse... ZN582_HUMAN.H11MO.0.C\n",
            "Dumping  reverse... - ready!\n",
            "Dumping... ZNF41_HUMAN.H11MO.0.C\n",
            "Dumping... - ready!\n",
            "Dumping reverse... ZNF41_HUMAN.H11MO.0.C\n",
            "Dumping  reverse... - ready!\n",
            "chr16.fa.gz\n",
            "Длина ДНК -  90354753\n",
            "Iter 0 10\n",
            "Iter 1 10\n",
            "Iter 2 10\n",
            "Iter 3 10\n",
            "Iter 4 10\n",
            "Iter 5 10\n",
            "Iter 6 10\n",
            "Iter 7 10\n",
            "Iter 8 10\n",
            "Iter 9 10\n",
            "Dumping... OZF_HUMAN.H11MO.0.C\n",
            "Dumping... - ready!\n",
            "Dumping reverse... OZF_HUMAN.H11MO.0.C\n",
            "Dumping  reverse... - ready!\n",
            "Dumping... Z354A_HUMAN.H11MO.0.C\n",
            "Dumping... - ready!\n",
            "Dumping reverse... Z354A_HUMAN.H11MO.0.C\n",
            "Dumping  reverse... - ready!\n",
            "Dumping... ZFP82_HUMAN.H11MO.0.C\n",
            "Dumping... - ready!\n",
            "Dumping reverse... ZFP82_HUMAN.H11MO.0.C\n",
            "Dumping  reverse... - ready!\n",
            "Dumping... ZN136_HUMAN.H11MO.0.C\n",
            "Dumping... - ready!\n",
            "Dumping reverse... ZN136_HUMAN.H11MO.0.C\n",
            "Dumping  reverse... - ready!\n",
            "Dumping... ZN140_HUMAN.H11MO.0.C\n",
            "Dumping... - ready!\n",
            "Dumping reverse... ZN140_HUMAN.H11MO.0.C\n",
            "Dumping  reverse... - ready!\n",
            "Dumping... ZN260_HUMAN.H11MO.0.C\n",
            "Dumping... - ready!\n",
            "Dumping reverse... ZN260_HUMAN.H11MO.0.C\n",
            "Dumping  reverse... - ready!\n",
            "Dumping... ZN264_HUMAN.H11MO.0.C\n",
            "Dumping... - ready!\n",
            "Dumping reverse... ZN264_HUMAN.H11MO.0.C\n",
            "Dumping  reverse... - ready!\n",
            "Dumping... ZN436_HUMAN.H11MO.0.C\n",
            "Dumping... - ready!\n",
            "Dumping reverse... ZN436_HUMAN.H11MO.0.C\n",
            "Dumping  reverse... - ready!\n",
            "Dumping... ZN490_HUMAN.H11MO.0.C\n",
            "Dumping... - ready!\n",
            "Dumping reverse... ZN490_HUMAN.H11MO.0.C\n",
            "Dumping  reverse... - ready!\n",
            "Dumping... ZN582_HUMAN.H11MO.0.C\n",
            "Dumping... - ready!\n",
            "Dumping reverse... ZN582_HUMAN.H11MO.0.C\n",
            "Dumping  reverse... - ready!\n",
            "Dumping... ZNF41_HUMAN.H11MO.0.C\n",
            "Dumping... - ready!\n",
            "Dumping reverse... ZNF41_HUMAN.H11MO.0.C\n",
            "Dumping  reverse... - ready!\n",
            "chr17.fa.gz\n",
            "Длина ДНК -  81195210\n",
            "Iter 0 9\n",
            "Iter 1 9\n",
            "Iter 2 9\n",
            "Iter 3 9\n",
            "Iter 4 9\n",
            "Iter 5 9\n",
            "Iter 6 9\n",
            "Iter 7 9\n",
            "Iter 8 9\n",
            "Dumping... OZF_HUMAN.H11MO.0.C\n",
            "Dumping... - ready!\n",
            "Dumping reverse... OZF_HUMAN.H11MO.0.C\n",
            "Dumping  reverse... - ready!\n",
            "Dumping... Z354A_HUMAN.H11MO.0.C\n",
            "Dumping... - ready!\n",
            "Dumping reverse... Z354A_HUMAN.H11MO.0.C\n",
            "Dumping  reverse... - ready!\n",
            "Dumping... ZFP82_HUMAN.H11MO.0.C\n",
            "Dumping... - ready!\n",
            "Dumping reverse... ZFP82_HUMAN.H11MO.0.C\n",
            "Dumping  reverse... - ready!\n",
            "Dumping... ZN136_HUMAN.H11MO.0.C\n",
            "Dumping... - ready!\n",
            "Dumping reverse... ZN136_HUMAN.H11MO.0.C\n",
            "Dumping  reverse... - ready!\n",
            "Dumping... ZN140_HUMAN.H11MO.0.C\n",
            "Dumping... - ready!\n",
            "Dumping reverse... ZN140_HUMAN.H11MO.0.C\n",
            "Dumping  reverse... - ready!\n",
            "Dumping... ZN260_HUMAN.H11MO.0.C\n",
            "Dumping... - ready!\n",
            "Dumping reverse... ZN260_HUMAN.H11MO.0.C\n",
            "Dumping  reverse... - ready!\n",
            "Dumping... ZN264_HUMAN.H11MO.0.C\n",
            "Dumping... - ready!\n",
            "Dumping reverse... ZN264_HUMAN.H11MO.0.C\n",
            "Dumping  reverse... - ready!\n",
            "Dumping... ZN436_HUMAN.H11MO.0.C\n",
            "Dumping... - ready!\n",
            "Dumping reverse... ZN436_HUMAN.H11MO.0.C\n",
            "Dumping  reverse... - ready!\n",
            "Dumping... ZN490_HUMAN.H11MO.0.C\n",
            "Dumping... - ready!\n",
            "Dumping reverse... ZN490_HUMAN.H11MO.0.C\n",
            "Dumping  reverse... - ready!\n",
            "Dumping... ZN582_HUMAN.H11MO.0.C\n",
            "Dumping... - ready!\n",
            "Dumping reverse... ZN582_HUMAN.H11MO.0.C\n",
            "Dumping  reverse... - ready!\n",
            "Dumping... ZNF41_HUMAN.H11MO.0.C\n",
            "Dumping... - ready!\n",
            "Dumping reverse... ZNF41_HUMAN.H11MO.0.C\n",
            "Dumping  reverse... - ready!\n",
            "chr18.fa.gz\n",
            "Длина ДНК -  78077248\n",
            "Iter 0 8\n",
            "Iter 1 8\n",
            "Iter 2 8\n",
            "Iter 3 8\n",
            "Iter 4 8\n",
            "Iter 5 8\n",
            "Iter 6 8\n",
            "Iter 7 8\n",
            "Dumping... OZF_HUMAN.H11MO.0.C\n",
            "Dumping... - ready!\n",
            "Dumping reverse... OZF_HUMAN.H11MO.0.C\n",
            "Dumping  reverse... - ready!\n",
            "Dumping... Z354A_HUMAN.H11MO.0.C\n",
            "Dumping... - ready!\n",
            "Dumping reverse... Z354A_HUMAN.H11MO.0.C\n",
            "Dumping  reverse... - ready!\n",
            "Dumping... ZFP82_HUMAN.H11MO.0.C\n",
            "Dumping... - ready!\n",
            "Dumping reverse... ZFP82_HUMAN.H11MO.0.C\n",
            "Dumping  reverse... - ready!\n",
            "Dumping... ZN136_HUMAN.H11MO.0.C\n",
            "Dumping... - ready!\n",
            "Dumping reverse... ZN136_HUMAN.H11MO.0.C\n",
            "Dumping  reverse... - ready!\n",
            "Dumping... ZN140_HUMAN.H11MO.0.C\n",
            "Dumping... - ready!\n",
            "Dumping reverse... ZN140_HUMAN.H11MO.0.C\n",
            "Dumping  reverse... - ready!\n",
            "Dumping... ZN260_HUMAN.H11MO.0.C\n",
            "Dumping... - ready!\n",
            "Dumping reverse... ZN260_HUMAN.H11MO.0.C\n",
            "Dumping  reverse... - ready!\n",
            "Dumping... ZN264_HUMAN.H11MO.0.C\n",
            "Dumping... - ready!\n",
            "Dumping reverse... ZN264_HUMAN.H11MO.0.C\n",
            "Dumping  reverse... - ready!\n",
            "Dumping... ZN436_HUMAN.H11MO.0.C\n",
            "Dumping... - ready!\n",
            "Dumping reverse... ZN436_HUMAN.H11MO.0.C\n",
            "Dumping  reverse... - ready!\n",
            "Dumping... ZN490_HUMAN.H11MO.0.C\n",
            "Dumping... - ready!\n",
            "Dumping reverse... ZN490_HUMAN.H11MO.0.C\n",
            "Dumping  reverse... - ready!\n",
            "Dumping... ZN582_HUMAN.H11MO.0.C\n",
            "Dumping... - ready!\n",
            "Dumping reverse... ZN582_HUMAN.H11MO.0.C\n",
            "Dumping  reverse... - ready!\n",
            "Dumping... ZNF41_HUMAN.H11MO.0.C\n",
            "Dumping... - ready!\n",
            "Dumping reverse... ZNF41_HUMAN.H11MO.0.C\n",
            "Dumping  reverse... - ready!\n",
            "chr19.fa.gz\n",
            "Длина ДНК -  59128983\n",
            "Iter 0 6\n",
            "Iter 1 6\n",
            "Iter 2 6\n",
            "Iter 3 6\n",
            "Iter 4 6\n",
            "Iter 5 6\n",
            "Dumping... OZF_HUMAN.H11MO.0.C\n",
            "Dumping... - ready!\n",
            "Dumping reverse... OZF_HUMAN.H11MO.0.C\n",
            "Dumping  reverse... - ready!\n",
            "Dumping... Z354A_HUMAN.H11MO.0.C\n",
            "Dumping... - ready!\n",
            "Dumping reverse... Z354A_HUMAN.H11MO.0.C\n",
            "Dumping  reverse... - ready!\n",
            "Dumping... ZFP82_HUMAN.H11MO.0.C\n",
            "Dumping... - ready!\n",
            "Dumping reverse... ZFP82_HUMAN.H11MO.0.C\n",
            "Dumping  reverse... - ready!\n",
            "Dumping... ZN136_HUMAN.H11MO.0.C\n",
            "Dumping... - ready!\n",
            "Dumping reverse... ZN136_HUMAN.H11MO.0.C\n",
            "Dumping  reverse... - ready!\n",
            "Dumping... ZN140_HUMAN.H11MO.0.C\n",
            "Dumping... - ready!\n",
            "Dumping reverse... ZN140_HUMAN.H11MO.0.C\n",
            "Dumping  reverse... - ready!\n",
            "Dumping... ZN260_HUMAN.H11MO.0.C\n",
            "Dumping... - ready!\n",
            "Dumping reverse... ZN260_HUMAN.H11MO.0.C\n",
            "Dumping  reverse... - ready!\n",
            "Dumping... ZN264_HUMAN.H11MO.0.C\n",
            "Dumping... - ready!\n",
            "Dumping reverse... ZN264_HUMAN.H11MO.0.C\n",
            "Dumping  reverse... - ready!\n",
            "Dumping... ZN436_HUMAN.H11MO.0.C\n",
            "Dumping... - ready!\n",
            "Dumping reverse... ZN436_HUMAN.H11MO.0.C\n",
            "Dumping  reverse... - ready!\n",
            "Dumping... ZN490_HUMAN.H11MO.0.C\n",
            "Dumping... - ready!\n",
            "Dumping reverse... ZN490_HUMAN.H11MO.0.C\n",
            "Dumping  reverse... - ready!\n",
            "Dumping... ZN582_HUMAN.H11MO.0.C\n",
            "Dumping... - ready!\n",
            "Dumping reverse... ZN582_HUMAN.H11MO.0.C\n",
            "Dumping  reverse... - ready!\n",
            "Dumping... ZNF41_HUMAN.H11MO.0.C\n",
            "Dumping... - ready!\n",
            "Dumping reverse... ZNF41_HUMAN.H11MO.0.C\n",
            "Dumping  reverse... - ready!\n",
            "chr2.fa.gz\n",
            "Длина ДНК -  243199373\n",
            "Iter 0 25\n",
            "Iter 1 25\n",
            "Iter 2 25\n",
            "Iter 3 25\n",
            "Iter 4 25\n",
            "Iter 5 25\n",
            "Iter 6 25\n",
            "Iter 7 25\n",
            "Iter 8 25\n",
            "Iter 9 25\n",
            "Iter 10 25\n",
            "Iter 11 25\n",
            "Iter 12 25\n",
            "Iter 13 25\n",
            "Iter 14 25\n",
            "Iter 15 25\n",
            "Iter 16 25\n",
            "Iter 17 25\n",
            "Iter 18 25\n",
            "Iter 19 25\n",
            "Iter 20 25\n",
            "Iter 21 25\n",
            "Iter 22 25\n",
            "Iter 23 25\n",
            "Iter 24 25\n",
            "Dumping... OZF_HUMAN.H11MO.0.C\n",
            "Dumping... - ready!\n",
            "Dumping reverse... OZF_HUMAN.H11MO.0.C\n",
            "Dumping  reverse... - ready!\n",
            "Dumping... Z354A_HUMAN.H11MO.0.C\n",
            "Dumping... - ready!\n",
            "Dumping reverse... Z354A_HUMAN.H11MO.0.C\n",
            "Dumping  reverse... - ready!\n",
            "Dumping... ZFP82_HUMAN.H11MO.0.C\n",
            "Dumping... - ready!\n",
            "Dumping reverse... ZFP82_HUMAN.H11MO.0.C\n",
            "Dumping  reverse... - ready!\n",
            "Dumping... ZN136_HUMAN.H11MO.0.C\n",
            "Dumping... - ready!\n",
            "Dumping reverse... ZN136_HUMAN.H11MO.0.C\n",
            "Dumping  reverse... - ready!\n",
            "Dumping... ZN140_HUMAN.H11MO.0.C\n",
            "Dumping... - ready!\n",
            "Dumping reverse... ZN140_HUMAN.H11MO.0.C\n",
            "Dumping  reverse... - ready!\n",
            "Dumping... ZN260_HUMAN.H11MO.0.C\n",
            "Dumping... - ready!\n",
            "Dumping reverse... ZN260_HUMAN.H11MO.0.C\n",
            "Dumping  reverse... - ready!\n",
            "Dumping... ZN264_HUMAN.H11MO.0.C\n",
            "Dumping... - ready!\n",
            "Dumping reverse... ZN264_HUMAN.H11MO.0.C\n",
            "Dumping  reverse... - ready!\n",
            "Dumping... ZN436_HUMAN.H11MO.0.C\n",
            "Dumping... - ready!\n",
            "Dumping reverse... ZN436_HUMAN.H11MO.0.C\n",
            "Dumping  reverse... - ready!\n",
            "Dumping... ZN490_HUMAN.H11MO.0.C\n",
            "Dumping... - ready!\n",
            "Dumping reverse... ZN490_HUMAN.H11MO.0.C\n",
            "Dumping  reverse... - ready!\n",
            "Dumping... ZN582_HUMAN.H11MO.0.C\n",
            "Dumping... - ready!\n",
            "Dumping reverse... ZN582_HUMAN.H11MO.0.C\n",
            "Dumping  reverse... - ready!\n",
            "Dumping... ZNF41_HUMAN.H11MO.0.C\n",
            "Dumping... - ready!\n",
            "Dumping reverse... ZNF41_HUMAN.H11MO.0.C\n",
            "Dumping  reverse... - ready!\n",
            "chr20.fa.gz\n",
            "Длина ДНК -  63025520\n",
            "Iter 0 7\n",
            "Iter 1 7\n",
            "Iter 2 7\n",
            "Iter 3 7\n",
            "Iter 4 7\n",
            "Iter 5 7\n",
            "Iter 6 7\n",
            "Dumping... OZF_HUMAN.H11MO.0.C\n",
            "Dumping... - ready!\n",
            "Dumping reverse... OZF_HUMAN.H11MO.0.C\n",
            "Dumping  reverse... - ready!\n",
            "Dumping... Z354A_HUMAN.H11MO.0.C\n",
            "Dumping... - ready!\n",
            "Dumping reverse... Z354A_HUMAN.H11MO.0.C\n",
            "Dumping  reverse... - ready!\n",
            "Dumping... ZFP82_HUMAN.H11MO.0.C\n",
            "Dumping... - ready!\n",
            "Dumping reverse... ZFP82_HUMAN.H11MO.0.C\n",
            "Dumping  reverse... - ready!\n",
            "Dumping... ZN136_HUMAN.H11MO.0.C\n",
            "Dumping... - ready!\n",
            "Dumping reverse... ZN136_HUMAN.H11MO.0.C\n",
            "Dumping  reverse... - ready!\n",
            "Dumping... ZN140_HUMAN.H11MO.0.C\n",
            "Dumping... - ready!\n",
            "Dumping reverse... ZN140_HUMAN.H11MO.0.C\n",
            "Dumping  reverse... - ready!\n",
            "Dumping... ZN260_HUMAN.H11MO.0.C\n",
            "Dumping... - ready!\n",
            "Dumping reverse... ZN260_HUMAN.H11MO.0.C\n",
            "Dumping  reverse... - ready!\n",
            "Dumping... ZN264_HUMAN.H11MO.0.C\n",
            "Dumping... - ready!\n",
            "Dumping reverse... ZN264_HUMAN.H11MO.0.C\n",
            "Dumping  reverse... - ready!\n",
            "Dumping... ZN436_HUMAN.H11MO.0.C\n",
            "Dumping... - ready!\n",
            "Dumping reverse... ZN436_HUMAN.H11MO.0.C\n",
            "Dumping  reverse... - ready!\n",
            "Dumping... ZN490_HUMAN.H11MO.0.C\n",
            "Dumping... - ready!\n",
            "Dumping reverse... ZN490_HUMAN.H11MO.0.C\n",
            "Dumping  reverse... - ready!\n",
            "Dumping... ZN582_HUMAN.H11MO.0.C\n",
            "Dumping... - ready!\n",
            "Dumping reverse... ZN582_HUMAN.H11MO.0.C\n",
            "Dumping  reverse... - ready!\n",
            "Dumping... ZNF41_HUMAN.H11MO.0.C\n",
            "Dumping... - ready!\n",
            "Dumping reverse... ZNF41_HUMAN.H11MO.0.C\n",
            "Dumping  reverse... - ready!\n",
            "chr21.fa.gz\n",
            "Длина ДНК -  48129895\n",
            "Iter 0 5\n",
            "Iter 1 5\n",
            "Iter 2 5\n",
            "Iter 3 5\n",
            "Iter 4 5\n",
            "Dumping... OZF_HUMAN.H11MO.0.C\n",
            "Dumping... - ready!\n",
            "Dumping reverse... OZF_HUMAN.H11MO.0.C\n",
            "Dumping  reverse... - ready!\n",
            "Dumping... Z354A_HUMAN.H11MO.0.C\n",
            "Dumping... - ready!\n",
            "Dumping reverse... Z354A_HUMAN.H11MO.0.C\n",
            "Dumping  reverse... - ready!\n",
            "Dumping... ZFP82_HUMAN.H11MO.0.C\n",
            "Dumping... - ready!\n",
            "Dumping reverse... ZFP82_HUMAN.H11MO.0.C\n",
            "Dumping  reverse... - ready!\n",
            "Dumping... ZN136_HUMAN.H11MO.0.C\n",
            "Dumping... - ready!\n",
            "Dumping reverse... ZN136_HUMAN.H11MO.0.C\n",
            "Dumping  reverse... - ready!\n",
            "Dumping... ZN140_HUMAN.H11MO.0.C\n",
            "Dumping... - ready!\n",
            "Dumping reverse... ZN140_HUMAN.H11MO.0.C\n",
            "Dumping  reverse... - ready!\n",
            "Dumping... ZN260_HUMAN.H11MO.0.C\n",
            "Dumping... - ready!\n",
            "Dumping reverse... ZN260_HUMAN.H11MO.0.C\n",
            "Dumping  reverse... - ready!\n",
            "Dumping... ZN264_HUMAN.H11MO.0.C\n",
            "Dumping... - ready!\n",
            "Dumping reverse... ZN264_HUMAN.H11MO.0.C\n",
            "Dumping  reverse... - ready!\n",
            "Dumping... ZN436_HUMAN.H11MO.0.C\n",
            "Dumping... - ready!\n",
            "Dumping reverse... ZN436_HUMAN.H11MO.0.C\n",
            "Dumping  reverse... - ready!\n",
            "Dumping... ZN490_HUMAN.H11MO.0.C\n",
            "Dumping... - ready!\n",
            "Dumping reverse... ZN490_HUMAN.H11MO.0.C\n",
            "Dumping  reverse... - ready!\n",
            "Dumping... ZN582_HUMAN.H11MO.0.C\n",
            "Dumping... - ready!\n",
            "Dumping reverse... ZN582_HUMAN.H11MO.0.C\n",
            "Dumping  reverse... - ready!\n",
            "Dumping... ZNF41_HUMAN.H11MO.0.C\n",
            "Dumping... - ready!\n",
            "Dumping reverse... ZNF41_HUMAN.H11MO.0.C\n",
            "Dumping  reverse... - ready!\n",
            "chr22.fa.gz\n",
            "Длина ДНК -  51304566\n",
            "Iter 0 6\n",
            "Iter 1 6\n",
            "Iter 2 6\n",
            "Iter 3 6\n",
            "Iter 4 6\n",
            "Iter 5 6\n",
            "Dumping... OZF_HUMAN.H11MO.0.C\n",
            "Dumping... - ready!\n",
            "Dumping reverse... OZF_HUMAN.H11MO.0.C\n",
            "Dumping  reverse... - ready!\n",
            "Dumping... Z354A_HUMAN.H11MO.0.C\n",
            "Dumping... - ready!\n",
            "Dumping reverse... Z354A_HUMAN.H11MO.0.C\n",
            "Dumping  reverse... - ready!\n",
            "Dumping... ZFP82_HUMAN.H11MO.0.C\n",
            "Dumping... - ready!\n",
            "Dumping reverse... ZFP82_HUMAN.H11MO.0.C\n",
            "Dumping  reverse... - ready!\n",
            "Dumping... ZN136_HUMAN.H11MO.0.C\n",
            "Dumping... - ready!\n",
            "Dumping reverse... ZN136_HUMAN.H11MO.0.C\n",
            "Dumping  reverse... - ready!\n",
            "Dumping... ZN140_HUMAN.H11MO.0.C\n",
            "Dumping... - ready!\n",
            "Dumping reverse... ZN140_HUMAN.H11MO.0.C\n",
            "Dumping  reverse... - ready!\n",
            "Dumping... ZN260_HUMAN.H11MO.0.C\n",
            "Dumping... - ready!\n",
            "Dumping reverse... ZN260_HUMAN.H11MO.0.C\n",
            "Dumping  reverse... - ready!\n",
            "Dumping... ZN264_HUMAN.H11MO.0.C\n",
            "Dumping... - ready!\n",
            "Dumping reverse... ZN264_HUMAN.H11MO.0.C\n",
            "Dumping  reverse... - ready!\n",
            "Dumping... ZN436_HUMAN.H11MO.0.C\n",
            "Dumping... - ready!\n",
            "Dumping reverse... ZN436_HUMAN.H11MO.0.C\n",
            "Dumping  reverse... - ready!\n",
            "Dumping... ZN490_HUMAN.H11MO.0.C\n",
            "Dumping... - ready!\n",
            "Dumping reverse... ZN490_HUMAN.H11MO.0.C\n",
            "Dumping  reverse... - ready!\n",
            "Dumping... ZN582_HUMAN.H11MO.0.C\n",
            "Dumping... - ready!\n",
            "Dumping reverse... ZN582_HUMAN.H11MO.0.C\n",
            "Dumping  reverse... - ready!\n",
            "Dumping... ZNF41_HUMAN.H11MO.0.C\n",
            "Dumping... - ready!\n",
            "Dumping reverse... ZNF41_HUMAN.H11MO.0.C\n",
            "Dumping  reverse... - ready!\n",
            "chr3.fa.gz\n",
            "Длина ДНК -  198022430\n",
            "Iter 0 20\n",
            "Iter 1 20\n",
            "Iter 2 20\n",
            "Iter 3 20\n",
            "Iter 4 20\n",
            "Iter 5 20\n",
            "Iter 6 20\n",
            "Iter 7 20\n",
            "Iter 8 20\n",
            "Iter 9 20\n",
            "Iter 10 20\n",
            "Iter 11 20\n",
            "Iter 12 20\n",
            "Iter 13 20\n",
            "Iter 14 20\n",
            "Iter 15 20\n",
            "Iter 16 20\n",
            "Iter 17 20\n",
            "Iter 18 20\n",
            "Iter 19 20\n",
            "Dumping... OZF_HUMAN.H11MO.0.C\n",
            "Dumping... - ready!\n",
            "Dumping reverse... OZF_HUMAN.H11MO.0.C\n",
            "Dumping  reverse... - ready!\n",
            "Dumping... Z354A_HUMAN.H11MO.0.C\n",
            "Dumping... - ready!\n",
            "Dumping reverse... Z354A_HUMAN.H11MO.0.C\n",
            "Dumping  reverse... - ready!\n",
            "Dumping... ZFP82_HUMAN.H11MO.0.C\n",
            "Dumping... - ready!\n",
            "Dumping reverse... ZFP82_HUMAN.H11MO.0.C\n",
            "Dumping  reverse... - ready!\n",
            "Dumping... ZN136_HUMAN.H11MO.0.C\n",
            "Dumping... - ready!\n",
            "Dumping reverse... ZN136_HUMAN.H11MO.0.C\n",
            "Dumping  reverse... - ready!\n",
            "Dumping... ZN140_HUMAN.H11MO.0.C\n",
            "Dumping... - ready!\n",
            "Dumping reverse... ZN140_HUMAN.H11MO.0.C\n",
            "Dumping  reverse... - ready!\n",
            "Dumping... ZN260_HUMAN.H11MO.0.C\n",
            "Dumping... - ready!\n",
            "Dumping reverse... ZN260_HUMAN.H11MO.0.C\n",
            "Dumping  reverse... - ready!\n",
            "Dumping... ZN264_HUMAN.H11MO.0.C\n",
            "Dumping... - ready!\n",
            "Dumping reverse... ZN264_HUMAN.H11MO.0.C\n",
            "Dumping  reverse... - ready!\n",
            "Dumping... ZN436_HUMAN.H11MO.0.C\n",
            "Dumping... - ready!\n",
            "Dumping reverse... ZN436_HUMAN.H11MO.0.C\n",
            "Dumping  reverse... - ready!\n",
            "Dumping... ZN490_HUMAN.H11MO.0.C\n",
            "Dumping... - ready!\n",
            "Dumping reverse... ZN490_HUMAN.H11MO.0.C\n",
            "Dumping  reverse... - ready!\n",
            "Dumping... ZN582_HUMAN.H11MO.0.C\n",
            "Dumping... - ready!\n",
            "Dumping reverse... ZN582_HUMAN.H11MO.0.C\n",
            "Dumping  reverse... - ready!\n",
            "Dumping... ZNF41_HUMAN.H11MO.0.C\n",
            "Dumping... - ready!\n",
            "Dumping reverse... ZNF41_HUMAN.H11MO.0.C\n",
            "Dumping  reverse... - ready!\n",
            "chr4.fa.gz\n",
            "Длина ДНК -  191154276\n",
            "Iter 0 20\n",
            "Iter 1 20\n",
            "Iter 2 20\n",
            "Iter 3 20\n",
            "Iter 4 20\n",
            "Iter 5 20\n",
            "Iter 6 20\n",
            "Iter 7 20\n",
            "Iter 8 20\n",
            "Iter 9 20\n",
            "Iter 10 20\n",
            "Iter 11 20\n",
            "Iter 12 20\n",
            "Iter 13 20\n",
            "Iter 14 20\n",
            "Iter 15 20\n",
            "Iter 16 20\n",
            "Iter 17 20\n",
            "Iter 18 20\n",
            "Iter 19 20\n",
            "Dumping... OZF_HUMAN.H11MO.0.C\n",
            "Dumping... - ready!\n",
            "Dumping reverse... OZF_HUMAN.H11MO.0.C\n",
            "Dumping  reverse... - ready!\n",
            "Dumping... Z354A_HUMAN.H11MO.0.C\n",
            "Dumping... - ready!\n",
            "Dumping reverse... Z354A_HUMAN.H11MO.0.C\n",
            "Dumping  reverse... - ready!\n",
            "Dumping... ZFP82_HUMAN.H11MO.0.C\n",
            "Dumping... - ready!\n",
            "Dumping reverse... ZFP82_HUMAN.H11MO.0.C\n",
            "Dumping  reverse... - ready!\n",
            "Dumping... ZN136_HUMAN.H11MO.0.C\n",
            "Dumping... - ready!\n",
            "Dumping reverse... ZN136_HUMAN.H11MO.0.C\n",
            "Dumping  reverse... - ready!\n",
            "Dumping... ZN140_HUMAN.H11MO.0.C\n",
            "Dumping... - ready!\n",
            "Dumping reverse... ZN140_HUMAN.H11MO.0.C\n",
            "Dumping  reverse... - ready!\n",
            "Dumping... ZN260_HUMAN.H11MO.0.C\n",
            "Dumping... - ready!\n",
            "Dumping reverse... ZN260_HUMAN.H11MO.0.C\n",
            "Dumping  reverse... - ready!\n",
            "Dumping... ZN264_HUMAN.H11MO.0.C\n",
            "Dumping... - ready!\n",
            "Dumping reverse... ZN264_HUMAN.H11MO.0.C\n",
            "Dumping  reverse... - ready!\n",
            "Dumping... ZN436_HUMAN.H11MO.0.C\n",
            "Dumping... - ready!\n",
            "Dumping reverse... ZN436_HUMAN.H11MO.0.C\n",
            "Dumping  reverse... - ready!\n",
            "Dumping... ZN490_HUMAN.H11MO.0.C\n",
            "Dumping... - ready!\n",
            "Dumping reverse... ZN490_HUMAN.H11MO.0.C\n",
            "Dumping  reverse... - ready!\n",
            "Dumping... ZN582_HUMAN.H11MO.0.C\n",
            "Dumping... - ready!\n",
            "Dumping reverse... ZN582_HUMAN.H11MO.0.C\n",
            "Dumping  reverse... - ready!\n",
            "Dumping... ZNF41_HUMAN.H11MO.0.C\n",
            "Dumping... - ready!\n",
            "Dumping reverse... ZNF41_HUMAN.H11MO.0.C\n",
            "Dumping  reverse... - ready!\n",
            "chr5.fa.gz\n",
            "Длина ДНК -  180915260\n",
            "Iter 0 19\n",
            "Iter 1 19\n",
            "Iter 2 19\n",
            "Iter 3 19\n",
            "Iter 4 19\n",
            "Iter 5 19\n",
            "Iter 6 19\n",
            "Iter 7 19\n",
            "Iter 8 19\n",
            "Iter 9 19\n",
            "Iter 10 19\n",
            "Iter 11 19\n",
            "Iter 12 19\n",
            "Iter 13 19\n",
            "Iter 14 19\n",
            "Iter 15 19\n",
            "Iter 16 19\n",
            "Iter 17 19\n",
            "Iter 18 19\n",
            "Dumping... OZF_HUMAN.H11MO.0.C\n",
            "Dumping... - ready!\n",
            "Dumping reverse... OZF_HUMAN.H11MO.0.C\n",
            "Dumping  reverse... - ready!\n",
            "Dumping... Z354A_HUMAN.H11MO.0.C\n",
            "Dumping... - ready!\n",
            "Dumping reverse... Z354A_HUMAN.H11MO.0.C\n",
            "Dumping  reverse... - ready!\n",
            "Dumping... ZFP82_HUMAN.H11MO.0.C\n",
            "Dumping... - ready!\n",
            "Dumping reverse... ZFP82_HUMAN.H11MO.0.C\n",
            "Dumping  reverse... - ready!\n",
            "Dumping... ZN136_HUMAN.H11MO.0.C\n",
            "Dumping... - ready!\n",
            "Dumping reverse... ZN136_HUMAN.H11MO.0.C\n",
            "Dumping  reverse... - ready!\n",
            "Dumping... ZN140_HUMAN.H11MO.0.C\n",
            "Dumping... - ready!\n",
            "Dumping reverse... ZN140_HUMAN.H11MO.0.C\n",
            "Dumping  reverse... - ready!\n",
            "Dumping... ZN260_HUMAN.H11MO.0.C\n",
            "Dumping... - ready!\n",
            "Dumping reverse... ZN260_HUMAN.H11MO.0.C\n",
            "Dumping  reverse... - ready!\n",
            "Dumping... ZN264_HUMAN.H11MO.0.C\n",
            "Dumping... - ready!\n",
            "Dumping reverse... ZN264_HUMAN.H11MO.0.C\n",
            "Dumping  reverse... - ready!\n",
            "Dumping... ZN436_HUMAN.H11MO.0.C\n",
            "Dumping... - ready!\n",
            "Dumping reverse... ZN436_HUMAN.H11MO.0.C\n",
            "Dumping  reverse... - ready!\n",
            "Dumping... ZN490_HUMAN.H11MO.0.C\n",
            "Dumping... - ready!\n",
            "Dumping reverse... ZN490_HUMAN.H11MO.0.C\n",
            "Dumping  reverse... - ready!\n",
            "Dumping... ZN582_HUMAN.H11MO.0.C\n",
            "Dumping... - ready!\n",
            "Dumping reverse... ZN582_HUMAN.H11MO.0.C\n",
            "Dumping  reverse... - ready!\n",
            "Dumping... ZNF41_HUMAN.H11MO.0.C\n",
            "Dumping... - ready!\n",
            "Dumping reverse... ZNF41_HUMAN.H11MO.0.C\n",
            "Dumping  reverse... - ready!\n",
            "chr6.fa.gz\n",
            "Длина ДНК -  171115067\n",
            "Iter 0 18\n",
            "Iter 1 18\n",
            "Iter 2 18\n",
            "Iter 3 18\n",
            "Iter 4 18\n",
            "Iter 5 18\n",
            "Iter 6 18\n",
            "Iter 7 18\n",
            "Iter 8 18\n",
            "Iter 9 18\n",
            "Iter 10 18\n",
            "Iter 11 18\n",
            "Iter 12 18\n",
            "Iter 13 18\n",
            "Iter 14 18\n",
            "Iter 15 18\n",
            "Iter 16 18\n",
            "Iter 17 18\n",
            "Dumping... OZF_HUMAN.H11MO.0.C\n",
            "Dumping... - ready!\n",
            "Dumping reverse... OZF_HUMAN.H11MO.0.C\n",
            "Dumping  reverse... - ready!\n",
            "Dumping... Z354A_HUMAN.H11MO.0.C\n",
            "Dumping... - ready!\n",
            "Dumping reverse... Z354A_HUMAN.H11MO.0.C\n",
            "Dumping  reverse... - ready!\n",
            "Dumping... ZFP82_HUMAN.H11MO.0.C\n",
            "Dumping... - ready!\n",
            "Dumping reverse... ZFP82_HUMAN.H11MO.0.C\n",
            "Dumping  reverse... - ready!\n",
            "Dumping... ZN136_HUMAN.H11MO.0.C\n",
            "Dumping... - ready!\n",
            "Dumping reverse... ZN136_HUMAN.H11MO.0.C\n",
            "Dumping  reverse... - ready!\n",
            "Dumping... ZN140_HUMAN.H11MO.0.C\n",
            "Dumping... - ready!\n",
            "Dumping reverse... ZN140_HUMAN.H11MO.0.C\n",
            "Dumping  reverse... - ready!\n",
            "Dumping... ZN260_HUMAN.H11MO.0.C\n",
            "Dumping... - ready!\n",
            "Dumping reverse... ZN260_HUMAN.H11MO.0.C\n",
            "Dumping  reverse... - ready!\n",
            "Dumping... ZN264_HUMAN.H11MO.0.C\n",
            "Dumping... - ready!\n",
            "Dumping reverse... ZN264_HUMAN.H11MO.0.C\n",
            "Dumping  reverse... - ready!\n",
            "Dumping... ZN436_HUMAN.H11MO.0.C\n",
            "Dumping... - ready!\n",
            "Dumping reverse... ZN436_HUMAN.H11MO.0.C\n",
            "Dumping  reverse... - ready!\n",
            "Dumping... ZN490_HUMAN.H11MO.0.C\n",
            "Dumping... - ready!\n",
            "Dumping reverse... ZN490_HUMAN.H11MO.0.C\n",
            "Dumping  reverse... - ready!\n",
            "Dumping... ZN582_HUMAN.H11MO.0.C\n",
            "Dumping... - ready!\n",
            "Dumping reverse... ZN582_HUMAN.H11MO.0.C\n",
            "Dumping  reverse... - ready!\n",
            "Dumping... ZNF41_HUMAN.H11MO.0.C\n",
            "Dumping... - ready!\n",
            "Dumping reverse... ZNF41_HUMAN.H11MO.0.C\n",
            "Dumping  reverse... - ready!\n",
            "chr7.fa.gz\n",
            "Длина ДНК -  159138663\n",
            "Iter 0 16\n",
            "Iter 1 16\n",
            "Iter 2 16\n",
            "Iter 3 16\n",
            "Iter 4 16\n",
            "Iter 5 16\n",
            "Iter 6 16\n",
            "Iter 7 16\n",
            "Iter 8 16\n",
            "Iter 9 16\n",
            "Iter 10 16\n",
            "Iter 11 16\n",
            "Iter 12 16\n",
            "Iter 13 16\n",
            "Iter 14 16\n",
            "Iter 15 16\n",
            "Dumping... OZF_HUMAN.H11MO.0.C\n",
            "Dumping... - ready!\n",
            "Dumping reverse... OZF_HUMAN.H11MO.0.C\n",
            "Dumping  reverse... - ready!\n",
            "Dumping... Z354A_HUMAN.H11MO.0.C\n",
            "Dumping... - ready!\n",
            "Dumping reverse... Z354A_HUMAN.H11MO.0.C\n",
            "Dumping  reverse... - ready!\n",
            "Dumping... ZFP82_HUMAN.H11MO.0.C\n",
            "Dumping... - ready!\n",
            "Dumping reverse... ZFP82_HUMAN.H11MO.0.C\n",
            "Dumping  reverse... - ready!\n",
            "Dumping... ZN136_HUMAN.H11MO.0.C\n",
            "Dumping... - ready!\n",
            "Dumping reverse... ZN136_HUMAN.H11MO.0.C\n",
            "Dumping  reverse... - ready!\n",
            "Dumping... ZN140_HUMAN.H11MO.0.C\n",
            "Dumping... - ready!\n",
            "Dumping reverse... ZN140_HUMAN.H11MO.0.C\n",
            "Dumping  reverse... - ready!\n",
            "Dumping... ZN260_HUMAN.H11MO.0.C\n",
            "Dumping... - ready!\n",
            "Dumping reverse... ZN260_HUMAN.H11MO.0.C\n",
            "Dumping  reverse... - ready!\n",
            "Dumping... ZN264_HUMAN.H11MO.0.C\n",
            "Dumping... - ready!\n",
            "Dumping reverse... ZN264_HUMAN.H11MO.0.C\n",
            "Dumping  reverse... - ready!\n",
            "Dumping... ZN436_HUMAN.H11MO.0.C\n",
            "Dumping... - ready!\n",
            "Dumping reverse... ZN436_HUMAN.H11MO.0.C\n",
            "Dumping  reverse... - ready!\n",
            "Dumping... ZN490_HUMAN.H11MO.0.C\n",
            "Dumping... - ready!\n",
            "Dumping reverse... ZN490_HUMAN.H11MO.0.C\n",
            "Dumping  reverse... - ready!\n",
            "Dumping... ZN582_HUMAN.H11MO.0.C\n",
            "Dumping... - ready!\n",
            "Dumping reverse... ZN582_HUMAN.H11MO.0.C\n",
            "Dumping  reverse... - ready!\n",
            "Dumping... ZNF41_HUMAN.H11MO.0.C\n",
            "Dumping... - ready!\n",
            "Dumping reverse... ZNF41_HUMAN.H11MO.0.C\n",
            "Dumping  reverse... - ready!\n",
            "chr8.fa.gz\n",
            "Длина ДНК -  146364022\n",
            "Iter 0 15\n",
            "Iter 1 15\n",
            "Iter 2 15\n",
            "Iter 3 15\n",
            "Iter 4 15\n",
            "Iter 5 15\n",
            "Iter 6 15\n",
            "Iter 7 15\n",
            "Iter 8 15\n",
            "Iter 9 15\n",
            "Iter 10 15\n",
            "Iter 11 15\n",
            "Iter 12 15\n",
            "Iter 13 15\n",
            "Iter 14 15\n",
            "Dumping... OZF_HUMAN.H11MO.0.C\n",
            "Dumping... - ready!\n",
            "Dumping reverse... OZF_HUMAN.H11MO.0.C\n",
            "Dumping  reverse... - ready!\n",
            "Dumping... Z354A_HUMAN.H11MO.0.C\n",
            "Dumping... - ready!\n",
            "Dumping reverse... Z354A_HUMAN.H11MO.0.C\n",
            "Dumping  reverse... - ready!\n",
            "Dumping... ZFP82_HUMAN.H11MO.0.C\n",
            "Dumping... - ready!\n",
            "Dumping reverse... ZFP82_HUMAN.H11MO.0.C\n",
            "Dumping  reverse... - ready!\n",
            "Dumping... ZN136_HUMAN.H11MO.0.C\n",
            "Dumping... - ready!\n",
            "Dumping reverse... ZN136_HUMAN.H11MO.0.C\n",
            "Dumping  reverse... - ready!\n",
            "Dumping... ZN140_HUMAN.H11MO.0.C\n",
            "Dumping... - ready!\n",
            "Dumping reverse... ZN140_HUMAN.H11MO.0.C\n",
            "Dumping  reverse... - ready!\n",
            "Dumping... ZN260_HUMAN.H11MO.0.C\n",
            "Dumping... - ready!\n",
            "Dumping reverse... ZN260_HUMAN.H11MO.0.C\n",
            "Dumping  reverse... - ready!\n",
            "Dumping... ZN264_HUMAN.H11MO.0.C\n",
            "Dumping... - ready!\n",
            "Dumping reverse... ZN264_HUMAN.H11MO.0.C\n",
            "Dumping  reverse... - ready!\n",
            "Dumping... ZN436_HUMAN.H11MO.0.C\n",
            "Dumping... - ready!\n",
            "Dumping reverse... ZN436_HUMAN.H11MO.0.C\n",
            "Dumping  reverse... - ready!\n",
            "Dumping... ZN490_HUMAN.H11MO.0.C\n",
            "Dumping... - ready!\n",
            "Dumping reverse... ZN490_HUMAN.H11MO.0.C\n",
            "Dumping  reverse... - ready!\n",
            "Dumping... ZN582_HUMAN.H11MO.0.C\n",
            "Dumping... - ready!\n",
            "Dumping reverse... ZN582_HUMAN.H11MO.0.C\n",
            "Dumping  reverse... - ready!\n",
            "Dumping... ZNF41_HUMAN.H11MO.0.C\n",
            "Dumping... - ready!\n",
            "Dumping reverse... ZNF41_HUMAN.H11MO.0.C\n",
            "Dumping  reverse... - ready!\n",
            "chr9.fa.gz\n",
            "Длина ДНК -  141213431\n",
            "Iter 0 15\n",
            "Iter 1 15\n",
            "Iter 2 15\n",
            "Iter 3 15\n",
            "Iter 4 15\n",
            "Iter 5 15\n",
            "Iter 6 15\n",
            "Iter 7 15\n",
            "Iter 8 15\n",
            "Iter 9 15\n",
            "Iter 10 15\n",
            "Iter 11 15\n",
            "Iter 12 15\n",
            "Iter 13 15\n",
            "Iter 14 15\n",
            "Dumping... OZF_HUMAN.H11MO.0.C\n",
            "Dumping... - ready!\n",
            "Dumping reverse... OZF_HUMAN.H11MO.0.C\n",
            "Dumping  reverse... - ready!\n",
            "Dumping... Z354A_HUMAN.H11MO.0.C\n",
            "Dumping... - ready!\n",
            "Dumping reverse... Z354A_HUMAN.H11MO.0.C\n",
            "Dumping  reverse... - ready!\n",
            "Dumping... ZFP82_HUMAN.H11MO.0.C\n",
            "Dumping... - ready!\n",
            "Dumping reverse... ZFP82_HUMAN.H11MO.0.C\n",
            "Dumping  reverse... - ready!\n",
            "Dumping... ZN136_HUMAN.H11MO.0.C\n",
            "Dumping... - ready!\n",
            "Dumping reverse... ZN136_HUMAN.H11MO.0.C\n",
            "Dumping  reverse... - ready!\n",
            "Dumping... ZN140_HUMAN.H11MO.0.C\n",
            "Dumping... - ready!\n",
            "Dumping reverse... ZN140_HUMAN.H11MO.0.C\n",
            "Dumping  reverse... - ready!\n",
            "Dumping... ZN260_HUMAN.H11MO.0.C\n",
            "Dumping... - ready!\n",
            "Dumping reverse... ZN260_HUMAN.H11MO.0.C\n",
            "Dumping  reverse... - ready!\n",
            "Dumping... ZN264_HUMAN.H11MO.0.C\n",
            "Dumping... - ready!\n",
            "Dumping reverse... ZN264_HUMAN.H11MO.0.C\n",
            "Dumping  reverse... - ready!\n",
            "Dumping... ZN436_HUMAN.H11MO.0.C\n",
            "Dumping... - ready!\n",
            "Dumping reverse... ZN436_HUMAN.H11MO.0.C\n",
            "Dumping  reverse... - ready!\n",
            "Dumping... ZN490_HUMAN.H11MO.0.C\n",
            "Dumping... - ready!\n",
            "Dumping reverse... ZN490_HUMAN.H11MO.0.C\n",
            "Dumping  reverse... - ready!\n",
            "Dumping... ZN582_HUMAN.H11MO.0.C\n",
            "Dumping... - ready!\n",
            "Dumping reverse... ZN582_HUMAN.H11MO.0.C\n",
            "Dumping  reverse... - ready!\n",
            "Dumping... ZNF41_HUMAN.H11MO.0.C\n",
            "Dumping... - ready!\n",
            "Dumping reverse... ZNF41_HUMAN.H11MO.0.C\n",
            "Dumping  reverse... - ready!\n",
            "chrX.fa.gz\n",
            "Длина ДНК -  155270560\n",
            "Iter 0 16\n",
            "Iter 1 16\n",
            "Iter 2 16\n",
            "Iter 3 16\n",
            "Iter 4 16\n",
            "Iter 5 16\n",
            "Iter 6 16\n",
            "Iter 7 16\n",
            "Iter 8 16\n",
            "Iter 9 16\n",
            "Iter 10 16\n",
            "Iter 11 16\n",
            "Iter 12 16\n",
            "Iter 13 16\n",
            "Iter 14 16\n",
            "Iter 15 16\n",
            "Dumping... OZF_HUMAN.H11MO.0.C\n",
            "Dumping... - ready!\n",
            "Dumping reverse... OZF_HUMAN.H11MO.0.C\n",
            "Dumping  reverse... - ready!\n",
            "Dumping... Z354A_HUMAN.H11MO.0.C\n",
            "Dumping... - ready!\n",
            "Dumping reverse... Z354A_HUMAN.H11MO.0.C\n",
            "Dumping  reverse... - ready!\n",
            "Dumping... ZFP82_HUMAN.H11MO.0.C\n",
            "Dumping... - ready!\n",
            "Dumping reverse... ZFP82_HUMAN.H11MO.0.C\n",
            "Dumping  reverse... - ready!\n",
            "Dumping... ZN136_HUMAN.H11MO.0.C\n",
            "Dumping... - ready!\n",
            "Dumping reverse... ZN136_HUMAN.H11MO.0.C\n",
            "Dumping  reverse... - ready!\n",
            "Dumping... ZN140_HUMAN.H11MO.0.C\n",
            "Dumping... - ready!\n",
            "Dumping reverse... ZN140_HUMAN.H11MO.0.C\n",
            "Dumping  reverse... - ready!\n",
            "Dumping... ZN260_HUMAN.H11MO.0.C\n",
            "Dumping... - ready!\n",
            "Dumping reverse... ZN260_HUMAN.H11MO.0.C\n",
            "Dumping  reverse... - ready!\n",
            "Dumping... ZN264_HUMAN.H11MO.0.C\n",
            "Dumping... - ready!\n",
            "Dumping reverse... ZN264_HUMAN.H11MO.0.C\n",
            "Dumping  reverse... - ready!\n",
            "Dumping... ZN436_HUMAN.H11MO.0.C\n",
            "Dumping... - ready!\n",
            "Dumping reverse... ZN436_HUMAN.H11MO.0.C\n",
            "Dumping  reverse... - ready!\n",
            "Dumping... ZN490_HUMAN.H11MO.0.C\n",
            "Dumping... - ready!\n",
            "Dumping reverse... ZN490_HUMAN.H11MO.0.C\n",
            "Dumping  reverse... - ready!\n",
            "Dumping... ZN582_HUMAN.H11MO.0.C\n",
            "Dumping... - ready!\n",
            "Dumping reverse... ZN582_HUMAN.H11MO.0.C\n",
            "Dumping  reverse... - ready!\n",
            "Dumping... ZNF41_HUMAN.H11MO.0.C\n",
            "Dumping... - ready!\n",
            "Dumping reverse... ZNF41_HUMAN.H11MO.0.C\n",
            "Dumping  reverse... - ready!\n",
            "chrY.fa.gz\n",
            "Длина ДНК -  59373566\n",
            "Iter 0 6\n",
            "Iter 1 6\n",
            "Iter 2 6\n",
            "Iter 3 6\n",
            "Iter 4 6\n",
            "Iter 5 6\n",
            "Dumping... OZF_HUMAN.H11MO.0.C\n",
            "Dumping... - ready!\n",
            "Dumping reverse... OZF_HUMAN.H11MO.0.C\n",
            "Dumping  reverse... - ready!\n",
            "Dumping... Z354A_HUMAN.H11MO.0.C\n",
            "Dumping... - ready!\n",
            "Dumping reverse... Z354A_HUMAN.H11MO.0.C\n",
            "Dumping  reverse... - ready!\n",
            "Dumping... ZFP82_HUMAN.H11MO.0.C\n",
            "Dumping... - ready!\n",
            "Dumping reverse... ZFP82_HUMAN.H11MO.0.C\n",
            "Dumping  reverse... - ready!\n",
            "Dumping... ZN136_HUMAN.H11MO.0.C\n",
            "Dumping... - ready!\n",
            "Dumping reverse... ZN136_HUMAN.H11MO.0.C\n",
            "Dumping  reverse... - ready!\n",
            "Dumping... ZN140_HUMAN.H11MO.0.C\n",
            "Dumping... - ready!\n",
            "Dumping reverse... ZN140_HUMAN.H11MO.0.C\n",
            "Dumping  reverse... - ready!\n",
            "Dumping... ZN260_HUMAN.H11MO.0.C\n",
            "Dumping... - ready!\n",
            "Dumping reverse... ZN260_HUMAN.H11MO.0.C\n",
            "Dumping  reverse... - ready!\n",
            "Dumping... ZN264_HUMAN.H11MO.0.C\n",
            "Dumping... - ready!\n",
            "Dumping reverse... ZN264_HUMAN.H11MO.0.C\n",
            "Dumping  reverse... - ready!\n",
            "Dumping... ZN436_HUMAN.H11MO.0.C\n",
            "Dumping... - ready!\n",
            "Dumping reverse... ZN436_HUMAN.H11MO.0.C\n",
            "Dumping  reverse... - ready!\n",
            "Dumping... ZN490_HUMAN.H11MO.0.C\n",
            "Dumping... - ready!\n",
            "Dumping reverse... ZN490_HUMAN.H11MO.0.C\n",
            "Dumping  reverse... - ready!\n",
            "Dumping... ZN582_HUMAN.H11MO.0.C\n",
            "Dumping... - ready!\n",
            "Dumping reverse... ZN582_HUMAN.H11MO.0.C\n",
            "Dumping  reverse... - ready!\n",
            "Dumping... ZNF41_HUMAN.H11MO.0.C\n",
            "Dumping... - ready!\n",
            "Dumping reverse... ZNF41_HUMAN.H11MO.0.C\n",
            "Dumping  reverse... - ready!\n",
            "CPU times: user 1h 45min 1s, sys: 2min 31s, total: 1h 47min 33s\n",
            "Wall time: 1h 47min 51s\n"
          ],
          "name": "stdout"
        }
      ]
    },
    {
      "cell_type": "code",
      "metadata": {
        "id": "zlkAaqdFkYJ0"
      },
      "source": [
        "Wall time: 42min 27s"
      ],
      "execution_count": null,
      "outputs": []
    },
    {
      "cell_type": "code",
      "metadata": {
        "id": "GXZbRgxkfTFD"
      },
      "source": [
        "Wall time: 3h 39min 11s - 12"
      ],
      "execution_count": null,
      "outputs": []
    },
    {
      "cell_type": "code",
      "metadata": {
        "id": "ZB58R-W0kYJ2",
        "outputId": "a545d905-3508-4b60-9504-9ed1b29d8e34"
      },
      "source": [
        "len(histograma.keys())"
      ],
      "execution_count": null,
      "outputs": [
        {
          "output_type": "execute_result",
          "data": {
            "text/plain": [
              "4215"
            ]
          },
          "metadata": {
            "tags": []
          },
          "execution_count": 150
        }
      ]
    },
    {
      "cell_type": "code",
      "metadata": {
        "id": "QbobjMSXkYJ8",
        "outputId": "55874393-68d8-42f3-da81-f69b5e4149c1"
      },
      "source": [
        "items = sorted(histograma.items(), key=lambda x: x[0], reverse=True)\n",
        "items[:10]"
      ],
      "execution_count": null,
      "outputs": [
        {
          "output_type": "execute_result",
          "data": {
            "text/plain": [
              "[(904, 2056),\n",
              " (872, 1841),\n",
              " (867, 2973),\n",
              " (862, 640),\n",
              " (861, 2466),\n",
              " (829, 4342),\n",
              " (825, 482),\n",
              " (824, 3677),\n",
              " (819, 3274),\n",
              " (804, 21502)]"
            ]
          },
          "metadata": {
            "tags": []
          },
          "execution_count": 166
        }
      ]
    },
    {
      "cell_type": "code",
      "metadata": {
        "id": "mxiljBBakYKA",
        "outputId": "b395f78d-2fa0-4a38-cb68-bdf206ff531e"
      },
      "source": [
        "plt.bar([i[0] for i in items[:-2500]], [i[1] for i in items[:-2500]], color='g')\n",
        "plt.show()"
      ],
      "execution_count": null,
      "outputs": [
        {
          "output_type": "display_data",
          "data": {
            "image/png": "[encoded data removed]",
            "text/plain": [
              "<Figure size 432x288 with 1 Axes>"
            ]
          },
          "metadata": {
            "tags": [],
            "needs_background": "light"
          }
        }
      ]
    },
    {
      "cell_type": "code",
      "metadata": {
        "id": "h1kKSFmokYKD",
        "outputId": "4b6b41f0-bfaf-4ea3-9aee-25e7afe4f4bb"
      },
      "source": [
        "# 25 000 генов, пусть TPR равно 5%, тогда возьмем 25 000 * 4 (допустим несколько регуляторов на каждый ген) * (100 / 5) (коррекция на точность)\n",
        "25000 * 4 * 100 / 5"
      ],
      "execution_count": null,
      "outputs": [
        {
          "output_type": "execute_result",
          "data": {
            "text/plain": [
              "2000000.0"
            ]
          },
          "metadata": {
            "tags": []
          },
          "execution_count": 180
        }
      ]
    },
    {
      "cell_type": "code",
      "metadata": {
        "id": "_1vUYwmokYKG",
        "outputId": "b074c2ad-cb91-4823-9cff-22f45dbc706e"
      },
      "source": [
        "n = 700\n",
        "print(sum([i[1] for i in items[:-2500]][:n]))\n",
        "print(items[:-2500][n])"
      ],
      "execution_count": null,
      "outputs": [
        {
          "output_type": "stream",
          "text": [
            "91777207\n",
            "(-72, 571927)\n"
          ],
          "name": "stdout"
        }
      ]
    },
    {
      "cell_type": "code",
      "metadata": {
        "id": "4fnZbTHskYKJ"
      },
      "source": [
        "# Тест"
      ],
      "execution_count": null,
      "outputs": []
    },
    {
      "cell_type": "code",
      "metadata": {
        "id": "J5IjohL8kYKN",
        "outputId": "fc752d10-e7c4-46c3-ab63-f69b86d03c4e"
      },
      "source": [
        "seq = 'NNNNATATCGCGNNNNATA'\n",
        "motif = torch.tensor([[1., 0., 0., 0., 0.], [0., 0., 0., 1., 0.], [1., 0., 0., 0., 0.]])\n",
        "histograma = find_all_motif_scores(motif, seq, buff_len=100,histo=True, treshold=0.001)\n",
        "histograma"
      ],
      "execution_count": null,
      "outputs": [
        {
          "output_type": "stream",
          "text": [
            "Iter 0 1\n",
            "Dumping...\n",
            "Dumping... - ready!\n",
            "['3\\t100\\n', '5\\t300\\n', '7\\t200\\n', '15\\t100\\n', '17\\t300\\n']\n"
          ],
          "name": "stdout"
        },
        {
          "output_type": "execute_result",
          "data": {
            "text/plain": [
              "({0: 12, 100: 2, 200: 1, 300: 2}, 5)"
            ]
          },
          "metadata": {
            "tags": []
          },
          "execution_count": 20
        }
      ]
    },
    {
      "cell_type": "code",
      "metadata": {
        "id": "JdWuxIuDkYKQ",
        "outputId": "839ba1a9-19cf-4063-8740-0da3f8c453de"
      },
      "source": [
        "# нумерация ДНк идет с единицы, а не не с нуля\n",
        "n = 17\n",
        "seq[n - 1:n - 1+3]"
      ],
      "execution_count": null,
      "outputs": [
        {
          "output_type": "execute_result",
          "data": {
            "text/plain": [
              "'ATA'"
            ]
          },
          "metadata": {
            "tags": []
          },
          "execution_count": 49
        }
      ]
    },
    {
      "cell_type": "code",
      "metadata": {
        "id": "_Ovs_gZwkYKS",
        "outputId": "43e8aad8-ea7f-4be1-da06-a0f88fd03aea"
      },
      "source": [
        "histograma == {0: 12, 100: 2, 200: 1, 300: 2}"
      ],
      "execution_count": null,
      "outputs": [
        {
          "output_type": "execute_result",
          "data": {
            "text/plain": [
              "True"
            ]
          },
          "metadata": {
            "tags": []
          },
          "execution_count": 47
        }
      ]
    },
    {
      "cell_type": "code",
      "metadata": {
        "id": "IDz0HiUskYKW"
      },
      "source": [
        "import random\n",
        "for i in range(2, 1000):\n",
        "    seq = 'AT' * (i - 1)\n",
        "    motif = torch.tensor([[1., 0., 0., 0., 0.], [0., 0., 0., 1., 0.], [1., 0., 0., 0., 0.]])\n",
        "    histograma = find_all_motif_scores(motif, seq, buff_len=i)"
      ],
      "execution_count": null,
      "outputs": []
    },
    {
      "cell_type": "code",
      "metadata": {
        "id": "2m7iUMPokYKZ",
        "outputId": "3edce3a2-3d0c-4f2b-b766-8351d53237ae"
      },
      "source": [
        "histograma"
      ],
      "execution_count": null,
      "outputs": [
        {
          "output_type": "execute_result",
          "data": {
            "text/plain": [
              "{}"
            ]
          },
          "metadata": {
            "tags": []
          },
          "execution_count": 12
        }
      ]
    },
    {
      "cell_type": "code",
      "metadata": {
        "id": "3u9b-UWpkYKc",
        "outputId": "b69d08a7-0e5a-4df5-8963-50db00b26b06"
      },
      "source": [
        "reverse_complement_seq = get_reverse_complement(seq)\n",
        "histograma_rev = find_all_motif_scores(motif, reverse_complement_seq)"
      ],
      "execution_count": null,
      "outputs": [
        {
          "output_type": "stream",
          "text": [
            "[]\n"
          ],
          "name": "stdout"
        }
      ]
    },
    {
      "cell_type": "code",
      "metadata": {
        "id": "DBYS-rKrkYKf",
        "outputId": "d16a2498-f82d-4547-fdd1-b6eca9fb120e"
      },
      "source": [
        "print(reverse_complement_seq)\n",
        "print(histograma_rev)\n",
        "histograma_rev == {0: 4, 100: 1, 300: 1}"
      ],
      "execution_count": null,
      "outputs": [
        {
          "output_type": "stream",
          "text": [
            "TATNNNNCGCGATATNNNN\n",
            "{}\n"
          ],
          "name": "stdout"
        },
        {
          "output_type": "execute_result",
          "data": {
            "text/plain": [
              "False"
            ]
          },
          "metadata": {
            "tags": []
          },
          "execution_count": 25
        }
      ]
    },
    {
      "cell_type": "code",
      "metadata": {
        "id": "C4CJ5-7ekYKh"
      },
      "source": [
        "# Тест определения позиции (поправка +1)"
      ],
      "execution_count": null,
      "outputs": []
    },
    {
      "cell_type": "code",
      "metadata": {
        "id": "STBnbqX0kYKl",
        "outputId": "6e0092cd-0ea7-4d6e-88b5-dfaf4b5d738b"
      },
      "source": [
        "seq = load_fasta_from_gzip('../data/chromosomesGRCh37/chr1.fa.gz')\n",
        "n = 100000\n",
        "print(seq[n:n+50])"
      ],
      "execution_count": null,
      "outputs": [
        {
          "output_type": "stream",
          "text": [
            "Длина ДНК -  249250621\n",
            "ACTAAGCACACAGAGAATAATGTCTAGAATCTGAGTGCCATGTTATCAAA\n"
          ],
          "name": "stdout"
        }
      ]
    },
    {
      "cell_type": "code",
      "metadata": {
        "id": "SBxcws8SkYKo",
        "outputId": "6d29b06e-9d46-4d31-818e-89089a3a9974"
      },
      "source": [
        "#seq = 'ATCGATCGCCCCCC'\n",
        "rev_seq = get_reverse_complement(seq)\n",
        "n = 100000\n",
        "print(rev_seq[-(n+50):-n])"
      ],
      "execution_count": null,
      "outputs": [
        {
          "output_type": "stream",
          "text": [
            "TTTGATAACATGGCACTCAGATTCTAGACATTATTCTCTGTGTGCTTAGT\n"
          ],
          "name": "stdout"
        }
      ]
    },
    {
      "cell_type": "code",
      "metadata": {
        "id": "SM63EHjqkYKr",
        "outputId": "9f3dde46-aef4-481d-a1da-99f9716fdcf2"
      },
      "source": [
        "print(seq[n:n+50])\n",
        "print(rev_seq[-(n+50):-n][::-1])\n",
        "print(rev_seq[len(seq)-(n+50):len(seq)-n][::-1])"
      ],
      "execution_count": null,
      "outputs": [
        {
          "output_type": "stream",
          "text": [
            "ACTAAGCACACAGAGAATAATGTCTAGAATCTGAGTGCCATGTTATCAAA\n",
            "TGATTCGTGTGTCTCTTATTACAGATCTTAGACTCACGGTACAATAGTTT\n",
            "TGATTCGTGTGTCTCTTATTACAGATCTTAGACTCACGGTACAATAGTTT\n"
          ],
          "name": "stdout"
        }
      ]
    },
    {
      "cell_type": "code",
      "metadata": {
        "id": "gqt8A7DqkYKu"
      },
      "source": [
        ""
      ],
      "execution_count": null,
      "outputs": []
    },
    {
      "cell_type": "code",
      "metadata": {
        "id": "Xf739cbZkYKw",
        "outputId": "864d3159-ce5c-403d-9454-298d9569f8bd"
      },
      "source": [
        "#print(rev_seq[:])\n",
        "print(rev_seq[::-1])\n",
        "print(seq)"
      ],
      "execution_count": null,
      "outputs": [
        {
          "output_type": "stream",
          "text": [
            "TAGCTAGCGGGGGG\n",
            "ATCGATCGCCCCCC\n"
          ],
          "name": "stdout"
        }
      ]
    },
    {
      "cell_type": "code",
      "metadata": {
        "id": "6gn2Yu5nkYK0",
        "outputId": "aa76f9ee-8842-4fe6-8e31-cba5779a6835"
      },
      "source": [
        "n = 7 - 1\n",
        "print(rev_seq[n:n+50])\n",
        "print(seq[- (n+50): - n])"
      ],
      "execution_count": null,
      "outputs": [
        {
          "output_type": "stream",
          "text": [
            "CGA\n",
            "TCG\n"
          ],
          "name": "stdout"
        }
      ]
    },
    {
      "cell_type": "code",
      "metadata": {
        "id": "Mfr3tyMBkYK4",
        "outputId": "088fcdd3-bb00-488a-b015-30a58a26cbce"
      },
      "source": [
        "print(seq[n+45:n+50])"
      ],
      "execution_count": null,
      "outputs": [
        {
          "output_type": "stream",
          "text": [
            "TCAAA\n"
          ],
          "name": "stdout"
        }
      ]
    },
    {
      "cell_type": "code",
      "metadata": {
        "id": "rMLE6NgBkYK8",
        "outputId": "316917e9-43e7-4dfe-a29b-d4402c937ce3"
      },
      "source": [
        "# тест snp\n",
        "pos = 238650279\n",
        "nucl = 'C'\n",
        "print(seq[pos-1], seq[pos-1] == nucl)\n",
        "pos = 91544686\n",
        "nucl = 'TA'\n",
        "print(seq[pos-1:pos+1], seq[pos-1:pos+1] == nucl)"
      ],
      "execution_count": null,
      "outputs": [
        {
          "output_type": "stream",
          "text": [
            "C True\n",
            "TA True\n"
          ],
          "name": "stdout"
        }
      ]
    },
    {
      "cell_type": "code",
      "metadata": {
        "id": "bFU8xR4WkYLC",
        "outputId": "102e6c0e-0c8c-4066-d6d6-fb41430908f1"
      },
      "source": [
        "# Тест - правильность поиска мотивов\n",
        "NUCL_STRING = 'ACGT'\n",
        "\n",
        "best_motif = ''\n",
        "best_motif_s = 0\n",
        "worst_motif_s = 0\n",
        "print(motif_matrix[0])\n",
        "for pos in motif_matrix[1]:\n",
        "    l_np = np.asarray(pos)\n",
        "    #print(pos, l_np.argmax())\n",
        "    best_motif += NUCL_STRING[l_np.argmax()]\n",
        "    best_motif_s += max(l_np)\n",
        "    worst_motif_s += min(l_np)\n",
        "print(best_motif)\n",
        "\n",
        "motif = torch.tensor(motif_matrix[1])\n",
        "histograma = find_all_motif_scores(motif, best_motif, buff_len=50, histo=True)\n",
        "print(histograma)\n",
        "print(best_motif_s, worst_motif_s, worst_motif_s + 0.9 * (best_motif_s - worst_motif_s))"
      ],
      "execution_count": null,
      "outputs": [
        {
          "output_type": "stream",
          "text": [
            "FOXA1_HUMAN.H11MO.0.A\n",
            "TGTTTACTTTGG\n",
            "Iter 0 1\n",
            "Dumping...\n",
            "Dumping... - ready!\n",
            "({1200: 1}, 0)\n",
            "11.998392038250344 -120.0 -1.2014471655746775\n"
          ],
          "name": "stdout"
        }
      ]
    },
    {
      "cell_type": "code",
      "metadata": {
        "id": "M2cABP1okYLF",
        "outputId": "3050a209-265f-41e8-c05a-e6296bddf5b1"
      },
      "source": [
        "seq_motif = 'TGTTTGCATTCA'\n",
        "print(seq_motif)\n",
        "histograma = find_all_motif_scores(motif, seq_motif, buff_len=50, histo=True)\n",
        "print(histograma)"
      ],
      "execution_count": null,
      "outputs": [
        {
          "output_type": "stream",
          "text": [
            "TGTTTGCATTCA\n",
            "Iter 0 1\n",
            "Dumping...\n",
            "Dumping... - ready!\n",
            "({728: 1}, 0)\n"
          ],
          "name": "stdout"
        }
      ]
    },
    {
      "cell_type": "code",
      "metadata": {
        "id": "5vaMqLCpkYLH"
      },
      "source": [
        ""
      ],
      "execution_count": null,
      "outputs": []
    },
    {
      "cell_type": "code",
      "metadata": {
        "id": "Mg73KbAjkYLM"
      },
      "source": [
        ""
      ],
      "execution_count": null,
      "outputs": []
    },
    {
      "cell_type": "code",
      "metadata": {
        "id": "bx8thOUrkYLQ",
        "outputId": "7b32d3a3-e81d-4ba2-ad8c-d5b2098cd37d"
      },
      "source": [
        "%time z = torch.mm(x, seq.T)"
      ],
      "execution_count": null,
      "outputs": [
        {
          "output_type": "stream",
          "text": [
            "Wall time: 11 ms\n"
          ],
          "name": "stdout"
        }
      ]
    },
    {
      "cell_type": "code",
      "metadata": {
        "id": "jY1DvhuOkYLS",
        "outputId": "9217775f-d143-4dcb-a045-df826eca5aa2"
      },
      "source": [
        "z.size()"
      ],
      "execution_count": null,
      "outputs": [
        {
          "output_type": "execute_result",
          "data": {
            "text/plain": [
              "torch.Size([9, 900000])"
            ]
          },
          "metadata": {
            "tags": []
          },
          "execution_count": 54
        }
      ]
    },
    {
      "cell_type": "code",
      "metadata": {
        "id": "uK2Q8zPikYLV",
        "outputId": "0ff465ea-e858-4e59-b4fe-3cdc515125dc"
      },
      "source": [
        "z[:, -10:]"
      ],
      "execution_count": null,
      "outputs": [
        {
          "output_type": "execute_result",
          "data": {
            "text/plain": [
              "tensor([[ 0.0497,  0.0497,  0.0071,  0.0071,  0.0497,  0.3722, -0.7112,  0.0071,\n",
              "          0.3722,  0.3722],\n",
              "        [-1.1864, -1.1864,  0.9004,  0.9004, -1.1864, -0.1012, -1.1077,  0.9004,\n",
              "         -0.1012, -0.1012],\n",
              "        [-0.5481, -0.5481,  0.5502,  0.5502, -0.5481, -0.5931,  0.1272,  0.5502,\n",
              "         -0.5931, -0.5931],\n",
              "        [-2.3461, -2.3461, -1.9796, -1.9796, -2.3461,  1.3087, -2.7362, -1.9796,\n",
              "          1.3087,  1.3087],\n",
              "        [-3.4521, -3.4521, -2.4687, -2.4687, -3.4521, -2.6703,  1.3388, -2.4687,\n",
              "         -2.6703, -2.6703],\n",
              "        [-2.1350, -2.1350, -3.2061, -3.2061, -2.1350,  1.3323, -2.9650, -3.2061,\n",
              "          1.3323,  1.3323],\n",
              "        [-3.4521, -3.4521,  1.3352,  1.3352, -3.4521, -3.0088, -2.1350,  1.3352,\n",
              "         -3.0088, -3.0088],\n",
              "        [-3.4521, -3.4521, -3.4521, -3.4521, -3.4521,  1.3622, -3.4521, -3.4521,\n",
              "          1.3622,  1.3622],\n",
              "        [ 0.1093,  0.1093, -0.3117, -0.3117,  0.1093, -0.8250,  0.5389, -0.3117,\n",
              "         -0.8250, -0.8250]])"
            ]
          },
          "metadata": {
            "tags": []
          },
          "execution_count": 94
        }
      ]
    },
    {
      "cell_type": "code",
      "metadata": {
        "id": "ehYZlgOfkYLZ"
      },
      "source": [
        ""
      ],
      "execution_count": null,
      "outputs": []
    },
    {
      "cell_type": "code",
      "metadata": {
        "id": "5aRfNx0MkYLc",
        "outputId": "1c5d7845-fe4f-4836-f607-cb2697f585f0"
      },
      "source": [
        "z"
      ],
      "execution_count": null,
      "outputs": [
        {
          "output_type": "execute_result",
          "data": {
            "text/plain": [
              "tensor([[ 0.0497,  0.0071,  0.0071, -0.7112,  0.0497,  0.3722, -0.7112,  0.0071,\n",
              "          0.0071],\n",
              "        [-1.1864,  0.9004,  0.9004, -1.1077, -1.1864, -0.1012, -1.1077,  0.9004,\n",
              "          0.9004],\n",
              "        [-0.5481,  0.5502,  0.5502,  0.1272, -0.5481, -0.5931,  0.1272,  0.5502,\n",
              "          0.5502],\n",
              "        [-2.3461, -1.9796, -1.9796, -2.7362, -2.3461,  1.3087, -2.7362, -1.9796,\n",
              "         -1.9796],\n",
              "        [-3.4521, -2.4687, -2.4687,  1.3388, -3.4521, -2.6703,  1.3388, -2.4687,\n",
              "         -2.4687],\n",
              "        [-2.1350, -3.2061, -3.2061, -2.9650, -2.1350,  1.3323, -2.9650, -3.2061,\n",
              "         -3.2061],\n",
              "        [-3.4521,  1.3352,  1.3352, -2.1350, -3.4521, -3.0088, -2.1350,  1.3352,\n",
              "          1.3352],\n",
              "        [-3.4521, -3.4521, -3.4521, -3.4521, -3.4521,  1.3622, -3.4521, -3.4521,\n",
              "         -3.4521],\n",
              "        [ 0.1093, -0.3117, -0.3117,  0.5389,  0.1093, -0.8250,  0.5389, -0.3117,\n",
              "         -0.3117]])"
            ]
          },
          "metadata": {
            "tags": []
          },
          "execution_count": 13
        }
      ]
    },
    {
      "cell_type": "code",
      "metadata": {
        "id": "QF4VyAn2kYLg"
      },
      "source": [
        "x = torch.ones(1, 5)\n",
        "y = torch.ones(5, 1)"
      ],
      "execution_count": null,
      "outputs": []
    },
    {
      "cell_type": "code",
      "metadata": {
        "id": "CwIUBP5WkYLi",
        "outputId": "435389f0-9c17-4c50-812c-422284429b77"
      },
      "source": [
        "x.tolist()"
      ],
      "execution_count": null,
      "outputs": [
        {
          "output_type": "execute_result",
          "data": {
            "text/plain": [
              "[[1.0, 1.0, 1.0, 1.0, 1.0]]"
            ]
          },
          "metadata": {
            "tags": []
          },
          "execution_count": 22
        }
      ]
    },
    {
      "cell_type": "code",
      "metadata": {
        "id": "tkXD9z3ukYLj",
        "outputId": "7373c59d-58f2-497a-92ba-e5ebd1c9eb5c"
      },
      "source": [
        "z = torch.mm(x, y.T)\n",
        "#torch.diagonal(z, offset=0, dim1=-1, dim2=-2)\n",
        "z0 = z[0]\n",
        "z1 = torch.cat((z[1][1:], torch.tensor([0 for _ in range(1)])))\n",
        "z2 = torch.cat((z[2][2:], torch.tensor([0 for _ in range(2)])))\n",
        "rezult = z0 + z1 + z2\n",
        "rezult"
      ],
      "execution_count": null,
      "outputs": [
        {
          "output_type": "execute_result",
          "data": {
            "text/plain": [
              "tensor([[1, 2, 3, 1],\n",
              "        [4, 5, 6, 4],\n",
              "        [7, 8, 9, 7]])"
            ]
          },
          "metadata": {
            "tags": []
          },
          "execution_count": 42
        }
      ]
    },
    {
      "cell_type": "code",
      "metadata": {
        "id": "yZL0AqBGkYLm"
      },
      "source": [
        "z = torch.mm(x, y)"
      ],
      "execution_count": null,
      "outputs": []
    },
    {
      "cell_type": "code",
      "metadata": {
        "id": "bYALKv9OkYLq",
        "outputId": "ab59997e-7ad9-41ff-e731-3e7ed0740a30"
      },
      "source": [
        "z.size()"
      ],
      "execution_count": null,
      "outputs": [
        {
          "output_type": "execute_result",
          "data": {
            "text/plain": [
              "torch.Size([1, 1])"
            ]
          },
          "metadata": {
            "tags": []
          },
          "execution_count": 16
        }
      ]
    },
    {
      "cell_type": "code",
      "metadata": {
        "id": "VIs3O23akYLs",
        "outputId": "d6c9906b-7a44-4332-8c5c-291b2f23d25e"
      },
      "source": [
        "z"
      ],
      "execution_count": null,
      "outputs": [
        {
          "output_type": "execute_result",
          "data": {
            "text/plain": [
              "tensor([[5.]])"
            ]
          },
          "metadata": {
            "tags": []
          },
          "execution_count": 17
        }
      ]
    },
    {
      "cell_type": "code",
      "metadata": {
        "id": "OWi8JJEOkYLv",
        "outputId": "d70adf4a-5425-4ebf-95c3-f02958154321"
      },
      "source": [
        "x.size()"
      ],
      "execution_count": null,
      "outputs": [
        {
          "output_type": "execute_result",
          "data": {
            "text/plain": [
              "torch.Size([1, 5])"
            ]
          },
          "metadata": {
            "tags": []
          },
          "execution_count": 18
        }
      ]
    },
    {
      "cell_type": "code",
      "metadata": {
        "id": "nUrGOjprkYLx"
      },
      "source": [
        "x = torch.tensor([[1, 2, 3], [4, 5, 6], [7, 8, 9]])\n",
        "y = torch.tensor([[1, 0, 0], [0, 1, 0], [0, 0, 1], [1, 0, 0]])"
      ],
      "execution_count": null,
      "outputs": []
    },
    {
      "cell_type": "code",
      "metadata": {
        "id": "G_A-zfvfkYL0",
        "outputId": "e9c05e69-2106-498a-cef1-aa8febd3e87e"
      },
      "source": [
        "torch.mm(x, y.T)"
      ],
      "execution_count": null,
      "outputs": [
        {
          "output_type": "execute_result",
          "data": {
            "text/plain": [
              "tensor([[1, 2, 3, 1],\n",
              "        [4, 5, 6, 4],\n",
              "        [7, 8, 9, 7]])"
            ]
          },
          "metadata": {
            "tags": []
          },
          "execution_count": 20
        }
      ]
    },
    {
      "cell_type": "code",
      "metadata": {
        "id": "8HkMTY-QkYL2",
        "outputId": "2187c008-ae4d-495d-c746-2e490aefba26"
      },
      "source": [
        ""
      ],
      "execution_count": null,
      "outputs": [
        {
          "output_type": "execute_result",
          "data": {
            "text/plain": [
              "tensor([1, 5, 9])"
            ]
          },
          "metadata": {
            "tags": []
          },
          "execution_count": 142
        }
      ]
    },
    {
      "cell_type": "code",
      "metadata": {
        "id": "Fta7KhmtkYL4"
      },
      "source": [
        "z2 = z[1][1:]"
      ],
      "execution_count": null,
      "outputs": []
    },
    {
      "cell_type": "code",
      "metadata": {
        "id": "IGVKyljDkYL7",
        "outputId": "7732615a-c770-455a-9113-a02f9c9c7aa5"
      },
      "source": [
        ""
      ],
      "execution_count": null,
      "outputs": [
        {
          "output_type": "execute_result",
          "data": {
            "text/plain": [
              "tensor([15, 15,  7,  1])"
            ]
          },
          "metadata": {
            "tags": []
          },
          "execution_count": 43
        }
      ]
    },
    {
      "cell_type": "code",
      "metadata": {
        "id": "PV_aTmfUkYL8",
        "outputId": "05da132f-a43a-49ba-a1a8-57e2c5ff93de"
      },
      "source": [
        "z0"
      ],
      "execution_count": null,
      "outputs": [
        {
          "output_type": "execute_result",
          "data": {
            "text/plain": [
              "tensor([1, 2, 3, 1])"
            ]
          },
          "metadata": {
            "tags": []
          },
          "execution_count": 44
        }
      ]
    },
    {
      "cell_type": "code",
      "metadata": {
        "id": "R3DqLfcOkYL9",
        "outputId": "78551145-5b24-495e-fb9b-0da8b74ddb29"
      },
      "source": [
        "z1"
      ],
      "execution_count": null,
      "outputs": [
        {
          "output_type": "execute_result",
          "data": {
            "text/plain": [
              "tensor([5, 6, 4, 0])"
            ]
          },
          "metadata": {
            "tags": []
          },
          "execution_count": 45
        }
      ]
    },
    {
      "cell_type": "code",
      "metadata": {
        "id": "SDJY9-fykYMA",
        "outputId": "c9a31105-b128-4bb1-bfc7-dfa84624082e"
      },
      "source": [
        "z2"
      ],
      "execution_count": null,
      "outputs": [
        {
          "output_type": "execute_result",
          "data": {
            "text/plain": [
              "tensor([9, 7, 0, 0])"
            ]
          },
          "metadata": {
            "tags": []
          },
          "execution_count": 46
        }
      ]
    },
    {
      "cell_type": "code",
      "metadata": {
        "id": "RcRHUERxkYMD",
        "outputId": "1acdbf2e-eb76-4ba0-e365-7a7fc2ee6072"
      },
      "source": [
        "batch_size = 5\n",
        "nb_digits = 5\n",
        "# Dummy input that HAS to be 2D for the scatter (you can use view(-1,1) if needed)\n",
        "y = torch.LongTensor(batch_size,1).random_() % nb_digits\n",
        "# One hot encoding buffer that you create out of the loop and just keep reusing\n",
        "y_onehot = torch.FloatTensor(batch_size, nb_digits)\n",
        "\n",
        "# In your for loop\n",
        "y_onehot.zero_()\n",
        "y_onehot.scatter_(1, y, 1)\n",
        "\n",
        "print(y)\n",
        "print(y_onehot)"
      ],
      "execution_count": null,
      "outputs": [
        {
          "output_type": "stream",
          "text": [
            "tensor([[0],\n",
            "        [1],\n",
            "        [4],\n",
            "        [4],\n",
            "        [3]])\n",
            "tensor([[1., 0., 0., 0., 0.],\n",
            "        [0., 1., 0., 0., 0.],\n",
            "        [0., 0., 0., 0., 1.],\n",
            "        [0., 0., 0., 0., 1.],\n",
            "        [0., 0., 0., 1., 0.]])\n"
          ],
          "name": "stdout"
        }
      ]
    },
    {
      "cell_type": "code",
      "metadata": {
        "id": "hCXGxEhnkYMF",
        "outputId": "0911c354-cd2b-4f39-9d5f-d0606ee4d5b2"
      },
      "source": [
        "seq = load_fasta_from_gzip('../data/chromosomes/chr1.fna.gz')"
      ],
      "execution_count": null,
      "outputs": [
        {
          "output_type": "stream",
          "text": [
            "Длина ДНК -  248956422\n"
          ],
          "name": "stdout"
        }
      ]
    },
    {
      "cell_type": "code",
      "metadata": {
        "id": "4Hfo0-SZkYMH",
        "outputId": "1383a039-2472-41f3-d557-24b7845e5453"
      },
      "source": [
        "len(seq)"
      ],
      "execution_count": null,
      "outputs": [
        {
          "output_type": "execute_result",
          "data": {
            "text/plain": [
              "248956422"
            ]
          },
          "metadata": {
            "tags": []
          },
          "execution_count": 18
        }
      ]
    },
    {
      "cell_type": "code",
      "metadata": {
        "id": "w2Z8cV9XkYML"
      },
      "source": [
        "seq = seq.replace('A', '0').replace('C', '1').replace('G', '2').replace('T', '3').replace('N', '4').replace('M', '4').replace('R', '4')"
      ],
      "execution_count": null,
      "outputs": []
    },
    {
      "cell_type": "code",
      "metadata": {
        "id": "Dm-2QF2LkYMM"
      },
      "source": [
        "#set(seq)"
      ],
      "execution_count": null,
      "outputs": []
    },
    {
      "cell_type": "code",
      "metadata": {
        "id": "VqAp77ZfkYMP"
      },
      "source": [
        "seq_i = list(map(int, list(seq)))"
      ],
      "execution_count": null,
      "outputs": []
    },
    {
      "cell_type": "code",
      "metadata": {
        "id": "ceVXQCdGkYMQ"
      },
      "source": [
        "seq_t = torch.tensor(seq_i, dtype=torch.long)"
      ],
      "execution_count": null,
      "outputs": []
    },
    {
      "cell_type": "code",
      "metadata": {
        "id": "rzjNGkmqkYMT",
        "outputId": "562e4f4b-0992-412b-d0b6-545d49d8e84b"
      },
      "source": [
        "seq_t.size()[0]"
      ],
      "execution_count": null,
      "outputs": [
        {
          "output_type": "execute_result",
          "data": {
            "text/plain": [
              "248956422"
            ]
          },
          "metadata": {
            "tags": []
          },
          "execution_count": 23
        }
      ]
    },
    {
      "cell_type": "code",
      "metadata": {
        "id": "a0H5mtERkYMV"
      },
      "source": [
        "seq = seq.replace('A', '0').replace('C', '1').replace('G', '2').replace('T', '3').replace('N', '4').replace('M', '4').replace('R', '4')\n",
        "seq_t = torch.tensor(seq_i, dtype=torch.long)\n",
        "seq_onehot = torch.zeros((seq_t.size()[0], 5), dtype=torch.uint8)\n",
        "seq_onehot.scatter_(1, seq_t.unsqueeze(1), 1)"
      ],
      "execution_count": null,
      "outputs": []
    },
    {
      "cell_type": "code",
      "metadata": {
        "id": "zGh8lEW3kYMY",
        "outputId": "22cb5565-3fdf-4c1c-e923-0d62db0d9d3c"
      },
      "source": [
        "#seq_onehot.zero_()\n",
        "seq_onehot.scatter_(1, seq_t.unsqueeze(1), 1)"
      ],
      "execution_count": null,
      "outputs": [
        {
          "output_type": "execute_result",
          "data": {
            "text/plain": [
              "tensor([[0, 0, 0, 0, 1],\n",
              "        [0, 0, 0, 0, 1],\n",
              "        [0, 0, 0, 0, 1],\n",
              "        ...,\n",
              "        [0, 0, 0, 0, 1],\n",
              "        [0, 0, 0, 0, 1],\n",
              "        [0, 0, 0, 0, 1]], dtype=torch.uint8)"
            ]
          },
          "metadata": {
            "tags": []
          },
          "execution_count": 25
        }
      ]
    },
    {
      "cell_type": "code",
      "metadata": {
        "id": "hWe0xUgskYMb",
        "outputId": "ec750c2b-9050-44c2-acaf-19b092e4224c"
      },
      "source": [
        "seq_onehot.size()"
      ],
      "execution_count": null,
      "outputs": [
        {
          "output_type": "execute_result",
          "data": {
            "text/plain": [
              "torch.Size([248956422, 5])"
            ]
          },
          "metadata": {
            "tags": []
          },
          "execution_count": 26
        }
      ]
    },
    {
      "cell_type": "code",
      "metadata": {
        "id": "CaULeuiJkYMf"
      },
      "source": [
        "del seq_t"
      ],
      "execution_count": null,
      "outputs": []
    },
    {
      "cell_type": "code",
      "metadata": {
        "id": "Z4u7HH9-kYMk"
      },
      "source": [
        ""
      ],
      "execution_count": null,
      "outputs": []
    }
  ]
}